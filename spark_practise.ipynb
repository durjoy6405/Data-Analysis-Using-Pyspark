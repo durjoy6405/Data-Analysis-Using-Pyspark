{
  "nbformat": 4,
  "nbformat_minor": 0,
  "metadata": {
    "colab": {
      "provenance": [],
      "authorship_tag": "ABX9TyN0gkxkZ623tRCht7BjVuzq",
      "include_colab_link": true
    },
    "kernelspec": {
      "name": "python3",
      "display_name": "Python 3"
    },
    "language_info": {
      "name": "python"
    }
  },
  "cells": [
    {
      "cell_type": "markdown",
      "metadata": {
        "id": "view-in-github",
        "colab_type": "text"
      },
      "source": [
        "<a href=\"https://colab.research.google.com/github/durjoy6405/Data-Analysis-Using-Pyspark/blob/main/spark_practise.ipynb\" target=\"_parent\"><img src=\"https://colab.research.google.com/assets/colab-badge.svg\" alt=\"Open In Colab\"/></a>"
      ]
    },
    {
      "cell_type": "code",
      "execution_count": null,
      "metadata": {
        "colab": {
          "base_uri": "https://localhost:8080/"
        },
        "id": "hk7Wnh3RwZk1",
        "outputId": "7862f472-b0a0-4ed7-be16-66df1b3da1d7"
      },
      "outputs": [
        {
          "output_type": "stream",
          "name": "stdout",
          "text": [
            "Reading package lists... Done\n",
            "Building dependency tree       \n",
            "Reading state information... Done\n",
            "The following packages will be REMOVED:\n",
            "  libnvidia-common-460\n",
            "0 upgraded, 0 newly installed, 1 to remove and 20 not upgraded.\n",
            "After this operation, 35.8 kB disk space will be freed.\n",
            "(Reading database ... 155676 files and directories currently installed.)\n",
            "Removing libnvidia-common-460 (460.106.00-0ubuntu1) ...\n",
            "Hit:1 http://archive.ubuntu.com/ubuntu bionic InRelease\n",
            "Get:2 http://archive.ubuntu.com/ubuntu bionic-updates InRelease [88.7 kB]\n",
            "Get:3 http://security.ubuntu.com/ubuntu bionic-security InRelease [88.7 kB]\n",
            "Get:4 http://ppa.launchpad.net/c2d4u.team/c2d4u4.0+/ubuntu bionic InRelease [15.9 kB]\n",
            "Get:5 https://cloud.r-project.org/bin/linux/ubuntu bionic-cran40/ InRelease [3,626 B]\n",
            "Hit:6 http://ppa.launchpad.net/cran/libgit2/ubuntu bionic InRelease\n",
            "Get:7 http://archive.ubuntu.com/ubuntu bionic-backports InRelease [74.6 kB]\n",
            "Hit:8 http://ppa.launchpad.net/deadsnakes/ppa/ubuntu bionic InRelease\n",
            "Hit:9 http://ppa.launchpad.net/graphics-drivers/ppa/ubuntu bionic InRelease\n",
            "Get:10 http://ppa.launchpad.net/c2d4u.team/c2d4u4.0+/ubuntu bionic/main Sources [2,095 kB]\n",
            "Get:11 http://ppa.launchpad.net/c2d4u.team/c2d4u4.0+/ubuntu bionic/main amd64 Packages [1,073 kB]\n",
            "Ign:12 https://developer.download.nvidia.com/compute/machine-learning/repos/ubuntu1804/x86_64  InRelease\n",
            "Get:13 https://developer.download.nvidia.com/compute/cuda/repos/ubuntu1804/x86_64  InRelease [1,581 B]\n",
            "Hit:14 https://developer.download.nvidia.com/compute/machine-learning/repos/ubuntu1804/x86_64  Release\n",
            "Get:15 http://security.ubuntu.com/ubuntu bionic-security/universe amd64 Packages [1,533 kB]\n",
            "Get:16 http://security.ubuntu.com/ubuntu bionic-security/main amd64 Packages [2,937 kB]\n",
            "Get:17 http://archive.ubuntu.com/ubuntu bionic-updates/universe amd64 Packages [2,311 kB]\n",
            "Get:18 http://archive.ubuntu.com/ubuntu bionic-updates/main amd64 Packages [3,369 kB]\n",
            "Get:19 https://developer.download.nvidia.com/compute/cuda/repos/ubuntu1804/x86_64  Packages [910 kB]\n",
            "Fetched 14.5 MB in 5s (2,908 kB/s)\n",
            "Reading package lists... Done\n",
            "Looking in indexes: https://pypi.org/simple, https://us-python.pkg.dev/colab-wheels/public/simple/\n",
            "Collecting pyspark\n",
            "  Downloading pyspark-3.3.0.tar.gz (281.3 MB)\n",
            "\u001b[K     |████████████████████████████████| 281.3 MB 45 kB/s \n",
            "\u001b[?25hCollecting py4j==0.10.9.5\n",
            "  Downloading py4j-0.10.9.5-py2.py3-none-any.whl (199 kB)\n",
            "\u001b[K     |████████████████████████████████| 199 kB 61.5 MB/s \n",
            "\u001b[?25hBuilding wheels for collected packages: pyspark\n",
            "  Building wheel for pyspark (setup.py) ... \u001b[?25l\u001b[?25hdone\n",
            "  Created wheel for pyspark: filename=pyspark-3.3.0-py2.py3-none-any.whl size=281764026 sha256=14532f098ff0aec7e4162c2825e7cf6d6da03aec972ff939d498f05b692b90d1\n",
            "  Stored in directory: /root/.cache/pip/wheels/7a/8e/1b/f73a52650d2e5f337708d9f6a1750d451a7349a867f928b885\n",
            "Successfully built pyspark\n",
            "Installing collected packages: py4j, pyspark\n",
            "Successfully installed py4j-0.10.9.5 pyspark-3.3.0\n",
            "The following additional packages will be installed:\n",
            "  openjdk-8-jre-headless\n",
            "Suggested packages:\n",
            "  openjdk-8-demo openjdk-8-source libnss-mdns fonts-dejavu-extra\n",
            "  fonts-ipafont-gothic fonts-ipafont-mincho fonts-wqy-microhei\n",
            "  fonts-wqy-zenhei fonts-indic\n",
            "The following NEW packages will be installed:\n",
            "  openjdk-8-jdk-headless openjdk-8-jre-headless\n",
            "0 upgraded, 2 newly installed, 0 to remove and 25 not upgraded.\n",
            "Need to get 36.6 MB of archives.\n",
            "After this operation, 143 MB of additional disk space will be used.\n",
            "Selecting previously unselected package openjdk-8-jre-headless:amd64.\n",
            "(Reading database ... 155671 files and directories currently installed.)\n",
            "Preparing to unpack .../openjdk-8-jre-headless_8u342-b07-0ubuntu1~18.04_amd64.deb ...\n",
            "Unpacking openjdk-8-jre-headless:amd64 (8u342-b07-0ubuntu1~18.04) ...\n",
            "Selecting previously unselected package openjdk-8-jdk-headless:amd64.\n",
            "Preparing to unpack .../openjdk-8-jdk-headless_8u342-b07-0ubuntu1~18.04_amd64.deb ...\n",
            "Unpacking openjdk-8-jdk-headless:amd64 (8u342-b07-0ubuntu1~18.04) ...\n",
            "Setting up openjdk-8-jre-headless:amd64 (8u342-b07-0ubuntu1~18.04) ...\n",
            "update-alternatives: using /usr/lib/jvm/java-8-openjdk-amd64/jre/bin/orbd to provide /usr/bin/orbd (orbd) in auto mode\n",
            "update-alternatives: using /usr/lib/jvm/java-8-openjdk-amd64/jre/bin/servertool to provide /usr/bin/servertool (servertool) in auto mode\n",
            "update-alternatives: using /usr/lib/jvm/java-8-openjdk-amd64/jre/bin/tnameserv to provide /usr/bin/tnameserv (tnameserv) in auto mode\n",
            "Setting up openjdk-8-jdk-headless:amd64 (8u342-b07-0ubuntu1~18.04) ...\n",
            "update-alternatives: using /usr/lib/jvm/java-8-openjdk-amd64/bin/idlj to provide /usr/bin/idlj (idlj) in auto mode\n",
            "update-alternatives: using /usr/lib/jvm/java-8-openjdk-amd64/bin/wsimport to provide /usr/bin/wsimport (wsimport) in auto mode\n",
            "update-alternatives: using /usr/lib/jvm/java-8-openjdk-amd64/bin/jsadebugd to provide /usr/bin/jsadebugd (jsadebugd) in auto mode\n",
            "update-alternatives: using /usr/lib/jvm/java-8-openjdk-amd64/bin/native2ascii to provide /usr/bin/native2ascii (native2ascii) in auto mode\n",
            "update-alternatives: using /usr/lib/jvm/java-8-openjdk-amd64/bin/javah to provide /usr/bin/javah (javah) in auto mode\n",
            "update-alternatives: using /usr/lib/jvm/java-8-openjdk-amd64/bin/clhsdb to provide /usr/bin/clhsdb (clhsdb) in auto mode\n",
            "update-alternatives: using /usr/lib/jvm/java-8-openjdk-amd64/bin/xjc to provide /usr/bin/xjc (xjc) in auto mode\n",
            "update-alternatives: using /usr/lib/jvm/java-8-openjdk-amd64/bin/hsdb to provide /usr/bin/hsdb (hsdb) in auto mode\n",
            "update-alternatives: using /usr/lib/jvm/java-8-openjdk-amd64/bin/schemagen to provide /usr/bin/schemagen (schemagen) in auto mode\n",
            "update-alternatives: using /usr/lib/jvm/java-8-openjdk-amd64/bin/extcheck to provide /usr/bin/extcheck (extcheck) in auto mode\n",
            "update-alternatives: using /usr/lib/jvm/java-8-openjdk-amd64/bin/jhat to provide /usr/bin/jhat (jhat) in auto mode\n",
            "update-alternatives: using /usr/lib/jvm/java-8-openjdk-amd64/bin/wsgen to provide /usr/bin/wsgen (wsgen) in auto mode\n"
          ]
        }
      ],
      "source": [
        "!apt autoremove\n",
        "!apt-get update\n",
        "!pip install pyspark\n",
        "!pip install -U -q PyDrive\n",
        "!apt install openjdk-8-jdk-headless -qq\n",
        "\n",
        "import os\n",
        "os.environ[\"JAVA_HOME\"] = \"/usr/lib/jvm/java-8-openjdk-amd64\""
      ]
    },
    {
      "cell_type": "code",
      "source": [
        "from pydrive.auth import GoogleAuth\n",
        "from pydrive.drive import GoogleDrive\n",
        "from google.colab import auth\n",
        "from oauth2client.client import GoogleCredentials\n",
        "\n",
        "# Authenticate and create the PyDrive client\n",
        "auth.authenticate_user()\n",
        "gauth = GoogleAuth()\n",
        "gauth.credentials = GoogleCredentials.get_application_default()\n",
        "drive = GoogleDrive(gauth)"
      ],
      "metadata": {
        "id": "anzjP5_4wiTu"
      },
      "execution_count": null,
      "outputs": []
    },
    {
      "cell_type": "code",
      "source": [
        "id='1L6pCQkldvdBoaEhRFzL0VnrggEFvqON4'\n",
        "downloaded = drive.CreateFile({'id': id})\n",
        "downloaded.GetContentFile('Bombing_Operations.json.gz')\n",
        "\n",
        "id='14dyBmcTBA32uXPxDbqr0bFDIzGxMTWwl'\n",
        "downloaded = drive.CreateFile({'id': id})\n",
        "downloaded.GetContentFile('Aircraft_Glossary.json.gz')"
      ],
      "metadata": {
        "id": "S2ZwNAz2wjot"
      },
      "execution_count": null,
      "outputs": []
    },
    {
      "cell_type": "code",
      "source": [
        "# Let's import the libraries we will need\n",
        "import pandas as pd\n",
        "import numpy as np\n",
        "import matplotlib.pyplot as plt\n",
        "%matplotlib inline\n",
        "\n",
        "import pyspark\n",
        "from pyspark.sql import *\n",
        "from pyspark.sql.functions import *\n",
        "from pyspark import SparkContext, SparkConf"
      ],
      "metadata": {
        "id": "oYm00BDgxF4G"
      },
      "execution_count": null,
      "outputs": []
    },
    {
      "cell_type": "code",
      "source": [
        "# create the session\n",
        "conf = SparkConf().set(\"spark.ui.port\", \"4050\")\n",
        "\n",
        "# create the context\n",
        "sc = pyspark.SparkContext(conf=conf)\n",
        "spark = SparkSession.builder.getOrCreate()"
      ],
      "metadata": {
        "id": "8DyiAmLkxO_N"
      },
      "execution_count": null,
      "outputs": []
    },
    {
      "cell_type": "code",
      "source": [
        "spark"
      ],
      "metadata": {
        "colab": {
          "base_uri": "https://localhost:8080/",
          "height": 219
        },
        "id": "ztd4-2LQ2qlL",
        "outputId": "db194f33-4443-419f-bd39-2843a0611211"
      },
      "execution_count": null,
      "outputs": [
        {
          "output_type": "execute_result",
          "data": {
            "text/plain": [
              "<pyspark.sql.session.SparkSession at 0x7fc4b968acd0>"
            ],
            "text/html": [
              "\n",
              "            <div>\n",
              "                <p><b>SparkSession - in-memory</b></p>\n",
              "                \n",
              "        <div>\n",
              "            <p><b>SparkContext</b></p>\n",
              "\n",
              "            <p><a href=\"http://87a97cb2a670:4050\">Spark UI</a></p>\n",
              "\n",
              "            <dl>\n",
              "              <dt>Version</dt>\n",
              "                <dd><code>v3.3.0</code></dd>\n",
              "              <dt>Master</dt>\n",
              "                <dd><code>local[*]</code></dd>\n",
              "              <dt>AppName</dt>\n",
              "                <dd><code>pyspark-shell</code></dd>\n",
              "            </dl>\n",
              "        </div>\n",
              "        \n",
              "            </div>\n",
              "        "
            ]
          },
          "metadata": {},
          "execution_count": 6
        }
      ]
    },
    {
      "cell_type": "code",
      "source": [
        "!wget https://bin.equinox.io/c/4VmDzA7iaHb/ngrok-stable-linux-amd64.zip\n",
        "!unzip ngrok-stable-linux-amd64.zip\n",
        "get_ipython().system_raw('./ngrok http 4050 &')\n",
        "!curl -s http://localhost:4040/api/tunnels | python3 -c \\\n",
        "    \"import sys, json; print(json.load(sys.stdin)['tunnels'][0]['public_url'])\""
      ],
      "metadata": {
        "colab": {
          "base_uri": "https://localhost:8080/"
        },
        "id": "otKykXWT2uYd",
        "outputId": "5ec1af10-b0e2-4226-f53c-67df6dc2b02d"
      },
      "execution_count": null,
      "outputs": [
        {
          "output_type": "stream",
          "name": "stdout",
          "text": [
            "--2022-08-22 13:24:52--  https://bin.equinox.io/c/4VmDzA7iaHb/ngrok-stable-linux-amd64.zip\n",
            "Resolving bin.equinox.io (bin.equinox.io)... 18.205.222.128, 54.161.241.46, 52.202.168.65, ...\n",
            "Connecting to bin.equinox.io (bin.equinox.io)|18.205.222.128|:443... connected.\n",
            "HTTP request sent, awaiting response... 200 OK\n",
            "Length: 13832437 (13M) [application/octet-stream]\n",
            "Saving to: ‘ngrok-stable-linux-amd64.zip’\n",
            "\n",
            "ngrok-stable-linux- 100%[===================>]  13.19M  11.8MB/s    in 1.1s    \n",
            "\n",
            "2022-08-22 13:24:53 (11.8 MB/s) - ‘ngrok-stable-linux-amd64.zip’ saved [13832437/13832437]\n",
            "\n",
            "Archive:  ngrok-stable-linux-amd64.zip\n",
            "  inflating: ngrok                   \n",
            "Traceback (most recent call last):\n",
            "  File \"<string>\", line 1, in <module>\n",
            "IndexError: list index out of range\n"
          ]
        }
      ]
    },
    {
      "cell_type": "code",
      "source": [
        "Bombing_Operations = spark.read.json(\"Bombing_Operations.json.gz\")\n",
        "Aircraft_Glossary = spark.read.json(\"Aircraft_Glossary.json.gz\")"
      ],
      "metadata": {
        "id": "JegsxuZ422E6"
      },
      "execution_count": null,
      "outputs": []
    },
    {
      "cell_type": "code",
      "source": [
        "Bombing_Operations.printSchema()"
      ],
      "metadata": {
        "colab": {
          "base_uri": "https://localhost:8080/"
        },
        "id": "aedJaIQf26Ry",
        "outputId": "1f4397e9-e94b-46f8-ba2c-6f6b1aa8bf1b"
      },
      "execution_count": null,
      "outputs": [
        {
          "output_type": "stream",
          "name": "stdout",
          "text": [
            "root\n",
            " |-- AirCraft: string (nullable = true)\n",
            " |-- ContryFlyingMission: string (nullable = true)\n",
            " |-- MissionDate: string (nullable = true)\n",
            " |-- OperationSupported: string (nullable = true)\n",
            " |-- PeriodOfDay: string (nullable = true)\n",
            " |-- TakeoffLocation: string (nullable = true)\n",
            " |-- TargetCountry: string (nullable = true)\n",
            " |-- TimeOnTarget: double (nullable = true)\n",
            " |-- WeaponType: string (nullable = true)\n",
            " |-- WeaponsLoadedWeight: long (nullable = true)\n",
            "\n"
          ]
        }
      ]
    },
    {
      "cell_type": "code",
      "source": [
        "Aircraft_Glossary.printSchema()"
      ],
      "metadata": {
        "colab": {
          "base_uri": "https://localhost:8080/"
        },
        "id": "_95WUPMn2856",
        "outputId": "49f30a9f-aba7-45f3-acbf-af66149b37f3"
      },
      "execution_count": null,
      "outputs": [
        {
          "output_type": "stream",
          "name": "stdout",
          "text": [
            "root\n",
            " |-- AirCraft: string (nullable = true)\n",
            " |-- AirCraftName: string (nullable = true)\n",
            " |-- AirCraftType: string (nullable = true)\n",
            "\n"
          ]
        }
      ]
    },
    {
      "cell_type": "code",
      "source": [
        "Bombing_Operations.take(5)"
      ],
      "metadata": {
        "colab": {
          "base_uri": "https://localhost:8080/"
        },
        "id": "MQ3kQyHe2-Ha",
        "outputId": "a2e78316-5b51-4319-fe29-aae8cceab41b"
      },
      "execution_count": null,
      "outputs": [
        {
          "output_type": "execute_result",
          "data": {
            "text/plain": [
              "[Row(AirCraft='EC-47', ContryFlyingMission='UNITED STATES OF AMERICA', MissionDate='1971-06-05', OperationSupported=None, PeriodOfDay='D', TakeoffLocation='TAN SON NHUT', TargetCountry='CAMBODIA', TimeOnTarget=1005.0, WeaponType=None, WeaponsLoadedWeight=0),\n",
              " Row(AirCraft='EC-47', ContryFlyingMission='UNITED STATES OF AMERICA', MissionDate='1972-12-26', OperationSupported=None, PeriodOfDay='D', TakeoffLocation='NAKHON PHANOM', TargetCountry='SOUTH VIETNAM', TimeOnTarget=530.0, WeaponType=None, WeaponsLoadedWeight=0),\n",
              " Row(AirCraft='RF-4', ContryFlyingMission='UNITED STATES OF AMERICA', MissionDate='1973-07-28', OperationSupported=None, PeriodOfDay='D', TakeoffLocation='UDORN AB', TargetCountry='LAOS', TimeOnTarget=730.0, WeaponType=None, WeaponsLoadedWeight=0),\n",
              " Row(AirCraft='A-1', ContryFlyingMission='UNITED STATES OF AMERICA', MissionDate='1970-02-02', OperationSupported=None, PeriodOfDay='N', TakeoffLocation='NAKHON PHANOM', TargetCountry='LAOS', TimeOnTarget=1415.0, WeaponType='BLU27 FIRE BOMB (750)', WeaponsLoadedWeight=17400),\n",
              " Row(AirCraft='A-37', ContryFlyingMission='VIETNAM (SOUTH)', MissionDate='1970-10-08', OperationSupported=None, PeriodOfDay='D', TakeoffLocation='DANANG', TargetCountry='SOUTH VIETNAM', TimeOnTarget=1240.0, WeaponType=None, WeaponsLoadedWeight=0)]"
            ]
          },
          "metadata": {},
          "execution_count": 11
        }
      ]
    },
    {
      "cell_type": "code",
      "source": [
        "Bombing_Operations.show()"
      ],
      "metadata": {
        "colab": {
          "base_uri": "https://localhost:8080/"
        },
        "id": "r0rGyorw3Hpq",
        "outputId": "3f486f68-179d-4683-d8ce-6400113cc10b"
      },
      "execution_count": null,
      "outputs": [
        {
          "output_type": "stream",
          "name": "stdout",
          "text": [
            "+--------+--------------------+-----------+------------------+-----------+---------------+-------------+------------+--------------------+-------------------+\n",
            "|AirCraft| ContryFlyingMission|MissionDate|OperationSupported|PeriodOfDay|TakeoffLocation|TargetCountry|TimeOnTarget|          WeaponType|WeaponsLoadedWeight|\n",
            "+--------+--------------------+-----------+------------------+-----------+---------------+-------------+------------+--------------------+-------------------+\n",
            "|   EC-47|UNITED STATES OF ...| 1971-06-05|              null|          D|   TAN SON NHUT|     CAMBODIA|      1005.0|                null|                  0|\n",
            "|   EC-47|UNITED STATES OF ...| 1972-12-26|              null|          D|  NAKHON PHANOM|SOUTH VIETNAM|       530.0|                null|                  0|\n",
            "|    RF-4|UNITED STATES OF ...| 1973-07-28|              null|          D|       UDORN AB|         LAOS|       730.0|                null|                  0|\n",
            "|     A-1|UNITED STATES OF ...| 1970-02-02|              null|          N|  NAKHON PHANOM|         LAOS|      1415.0|BLU27 FIRE BOMB (...|              17400|\n",
            "|    A-37|     VIETNAM (SOUTH)| 1970-10-08|              null|          D|         DANANG|SOUTH VIETNAM|      1240.0|                null|                  0|\n",
            "|     F-4|UNITED STATES OF ...| 1970-11-25|              null|          D|        UBON AB|         LAOS|       650.0|MK 82 GP BOMB (50...|              31860|\n",
            "|     A-4|UNITED STATES OF ...| 1972-03-08|              null|          D|    TONKIN GULF|         LAOS|      1005.0|                null|                  0|\n",
            "|     F-4|UNITED STATES OF ...| 1971-12-27|              null|       null|       UDORN AB|         LAOS|         0.0|                null|                  0|\n",
            "|     A-7|UNITED STATES OF ...| 1972-05-24|              null|       null|    TONKIN GULF|NORTH VIETNAM|         0.0|                null|                  0|\n",
            "|   EC-47|UNITED STATES OF ...| 1972-09-12|              null|          D|   TAN SON NHUT|SOUTH VIETNAM|       710.0|                null|                  0|\n",
            "|   CH-53|UNITED STATES OF ...| 1974-06-13|              null|          N|  NAKHON PHANOM|     THAILAND|      1800.0|                null|                  0|\n",
            "|   CH-53|UNITED STATES OF ...| 1974-12-19|              null|          D|  NAKHON PHANOM|     THAILAND|       800.0|                null|                  0|\n",
            "|     O-1|     VIETNAM (SOUTH)| 1973-10-24|              null|          D|      NHA TRANG|SOUTH VIETNAM|       800.0|                null|                  0|\n",
            "|    UH-1|     VIETNAM (SOUTH)| 1974-03-19|              null|          D|        PHU CAT|SOUTH VIETNAM|       800.0|        CARGO (TONS)|                  0|\n",
            "|     C-7|UNITED STATES OF ...| 1970-05-08|              null|          D|   TAN SON NHUT|SOUTH VIETNAM|       800.0|                null|                  0|\n",
            "|     A-6|UNITED STATES OF ...| 1971-05-12|              null|          N|    TONKIN GULF|         LAOS|      1304.0|CBU24 AN PR/MT (B...|              33200|\n",
            "|   EB-66|UNITED STATES OF ...| 1971-12-03|              null|          N|          KORAT|         LAOS|      1445.0|                null|                  0|\n",
            "|    T-28|                LAOS| 1971-12-19|              null|          D|     SAVANAKHET|         LAOS|       230.0|                null|                  0|\n",
            "|     A-6|UNITED STATES OF ...| 1972-08-18|              null|       null|    TONKIN GULF|NORTH VIETNAM|         0.0|                null|                  0|\n",
            "|     A-7|UNITED STATES OF ...| 1972-10-15|              null|          D|    TONKIN GULF|NORTH VIETNAM|       110.0|                null|                  0|\n",
            "+--------+--------------------+-----------+------------------+-----------+---------------+-------------+------------+--------------------+-------------------+\n",
            "only showing top 20 rows\n",
            "\n"
          ]
        }
      ]
    },
    {
      "cell_type": "code",
      "source": [
        "Aircraft_Glossary.show()"
      ],
      "metadata": {
        "colab": {
          "base_uri": "https://localhost:8080/"
        },
        "id": "LDJpH5yM3NLC",
        "outputId": "ce9a2aba-f0b8-4e04-f569-8af20f9f5f7a"
      },
      "execution_count": null,
      "outputs": [
        {
          "output_type": "stream",
          "name": "stdout",
          "text": [
            "+--------+--------------------+--------------------+\n",
            "|AirCraft|        AirCraftName|        AirCraftType|\n",
            "+--------+--------------------+--------------------+\n",
            "|     A-1|Douglas A-1 Skyra...|         Fighter Jet|\n",
            "|    A-26|Douglas A-26 Invader|        Light Bomber|\n",
            "|    A-37|Cessna A-37 Drago...|Light ground-atta...|\n",
            "|     A-4|McDonnell Douglas...|         Fighter Jet|\n",
            "|     A-5|North American A-...|          Bomber Jet|\n",
            "|     A-6|Grumman A-6 Intruder|     Attack Aircraft|\n",
            "|     A-7|  LTV A-7 Corsair II|     Attack Aircraft|\n",
            "|  AC-119|Fairchild AC-119 ...|Military Transpor...|\n",
            "|  AC-123|Fairchild C-123 P...|Military Transpor...|\n",
            "|  AC-130|Lockheed AC-130 S...|Fixed wing ground...|\n",
            "|   AC-47|Douglas AC-47 Spooky|Ground attack air...|\n",
            "|    AH-1| Bell AH-1 HueyCobra|          Helicopter|\n",
            "|     B-1| Rockwell B-1 Lancer|Heavy strategic b...|\n",
            "|    B-52| B-52 Stratofortress|    Strategic bomber|\n",
            "|    B-57|Martin B-57 Canberra|     Tactical Bomber|\n",
            "|    B-66|Douglas B-66 Dest...|        Light Bomber|\n",
            "|     C-1| Grumman C-1A Trader|           Transport|\n",
            "|   C-117|     C-117D Skytrain|           Transport|\n",
            "|   C-119|Fairchild C-119 F...|Military Transpor...|\n",
            "|   C-123|Fairchild C-123 P...|Military Transpor...|\n",
            "+--------+--------------------+--------------------+\n",
            "only showing top 20 rows\n",
            "\n"
          ]
        }
      ]
    },
    {
      "cell_type": "code",
      "source": [
        "Aircraft_Glossary.select(\"Aircraft\",\"AircraftName\").show()"
      ],
      "metadata": {
        "colab": {
          "base_uri": "https://localhost:8080/"
        },
        "id": "4HndTtT_3Rsa",
        "outputId": "a8347996-7c5f-48e7-fe60-09f856ef1a6b"
      },
      "execution_count": null,
      "outputs": [
        {
          "output_type": "stream",
          "name": "stdout",
          "text": [
            "+--------+--------------------+\n",
            "|Aircraft|        AircraftName|\n",
            "+--------+--------------------+\n",
            "|     A-1|Douglas A-1 Skyra...|\n",
            "|    A-26|Douglas A-26 Invader|\n",
            "|    A-37|Cessna A-37 Drago...|\n",
            "|     A-4|McDonnell Douglas...|\n",
            "|     A-5|North American A-...|\n",
            "|     A-6|Grumman A-6 Intruder|\n",
            "|     A-7|  LTV A-7 Corsair II|\n",
            "|  AC-119|Fairchild AC-119 ...|\n",
            "|  AC-123|Fairchild C-123 P...|\n",
            "|  AC-130|Lockheed AC-130 S...|\n",
            "|   AC-47|Douglas AC-47 Spooky|\n",
            "|    AH-1| Bell AH-1 HueyCobra|\n",
            "|     B-1| Rockwell B-1 Lancer|\n",
            "|    B-52| B-52 Stratofortress|\n",
            "|    B-57|Martin B-57 Canberra|\n",
            "|    B-66|Douglas B-66 Dest...|\n",
            "|     C-1| Grumman C-1A Trader|\n",
            "|   C-117|     C-117D Skytrain|\n",
            "|   C-119|Fairchild C-119 F...|\n",
            "|   C-123|Fairchild C-123 P...|\n",
            "+--------+--------------------+\n",
            "only showing top 20 rows\n",
            "\n"
          ]
        }
      ]
    },
    {
      "cell_type": "code",
      "source": [
        "Bombing_Operations.where(Bombing_Operations.ContryFlyingMission==\"UNITED STATES OF AMERICA\").show()"
      ],
      "metadata": {
        "colab": {
          "base_uri": "https://localhost:8080/"
        },
        "id": "sZmIuA5T3NSz",
        "outputId": "bc07f0b7-6f54-4d67-c949-ade2b37cec8f"
      },
      "execution_count": null,
      "outputs": [
        {
          "output_type": "stream",
          "name": "stdout",
          "text": [
            "+--------+--------------------+-----------+------------------+-----------+---------------+-------------+------------+--------------------+-------------------+\n",
            "|AirCraft| ContryFlyingMission|MissionDate|OperationSupported|PeriodOfDay|TakeoffLocation|TargetCountry|TimeOnTarget|          WeaponType|WeaponsLoadedWeight|\n",
            "+--------+--------------------+-----------+------------------+-----------+---------------+-------------+------------+--------------------+-------------------+\n",
            "|   EC-47|UNITED STATES OF ...| 1971-06-05|              null|          D|   TAN SON NHUT|     CAMBODIA|      1005.0|                null|                  0|\n",
            "|   EC-47|UNITED STATES OF ...| 1972-12-26|              null|          D|  NAKHON PHANOM|SOUTH VIETNAM|       530.0|                null|                  0|\n",
            "|    RF-4|UNITED STATES OF ...| 1973-07-28|              null|          D|       UDORN AB|         LAOS|       730.0|                null|                  0|\n",
            "|     A-1|UNITED STATES OF ...| 1970-02-02|              null|          N|  NAKHON PHANOM|         LAOS|      1415.0|BLU27 FIRE BOMB (...|              17400|\n",
            "|     F-4|UNITED STATES OF ...| 1970-11-25|              null|          D|        UBON AB|         LAOS|       650.0|MK 82 GP BOMB (50...|              31860|\n",
            "|     A-4|UNITED STATES OF ...| 1972-03-08|              null|          D|    TONKIN GULF|         LAOS|      1005.0|                null|                  0|\n",
            "|     F-4|UNITED STATES OF ...| 1971-12-27|              null|       null|       UDORN AB|         LAOS|         0.0|                null|                  0|\n",
            "|     A-7|UNITED STATES OF ...| 1972-05-24|              null|       null|    TONKIN GULF|NORTH VIETNAM|         0.0|                null|                  0|\n",
            "|   EC-47|UNITED STATES OF ...| 1972-09-12|              null|          D|   TAN SON NHUT|SOUTH VIETNAM|       710.0|                null|                  0|\n",
            "|   CH-53|UNITED STATES OF ...| 1974-06-13|              null|          N|  NAKHON PHANOM|     THAILAND|      1800.0|                null|                  0|\n",
            "|   CH-53|UNITED STATES OF ...| 1974-12-19|              null|          D|  NAKHON PHANOM|     THAILAND|       800.0|                null|                  0|\n",
            "|     C-7|UNITED STATES OF ...| 1970-05-08|              null|          D|   TAN SON NHUT|SOUTH VIETNAM|       800.0|                null|                  0|\n",
            "|     A-6|UNITED STATES OF ...| 1971-05-12|              null|          N|    TONKIN GULF|         LAOS|      1304.0|CBU24 AN PR/MT (B...|              33200|\n",
            "|   EB-66|UNITED STATES OF ...| 1971-12-03|              null|          N|          KORAT|         LAOS|      1445.0|                null|                  0|\n",
            "|     A-6|UNITED STATES OF ...| 1972-08-18|              null|       null|    TONKIN GULF|NORTH VIETNAM|         0.0|                null|                  0|\n",
            "|     A-7|UNITED STATES OF ...| 1972-10-15|              null|          D|    TONKIN GULF|NORTH VIETNAM|       110.0|                null|                  0|\n",
            "|     F-4|UNITED STATES OF ...| 1972-11-09|              null|          N|        UBON AB|SOUTH VIETNAM|      2031.0|                null|                  0|\n",
            "|   C-123|UNITED STATES OF ...| 1970-02-23|              null|          D|   TAN SON NHUT|SOUTH VIETNAM|       800.0|          PASSENGERS|                  0|\n",
            "|     F-4|UNITED STATES OF ...| 1972-04-26|              null|          D|         DANANG|SOUTH VIETNAM|       945.0|                null|              58410|\n",
            "|     A-7|UNITED STATES OF ...| 1972-08-24|              null|          N|    TONKIN GULF|NORTH VIETNAM|      1355.0|                null|              21240|\n",
            "+--------+--------------------+-----------+------------------+-----------+---------------+-------------+------------+--------------------+-------------------+\n",
            "only showing top 20 rows\n",
            "\n"
          ]
        }
      ]
    },
    {
      "cell_type": "code",
      "source": [
        "Bombing_Operations.where(Bombing_Operations.ContryFlyingMission==\"UNITED STATES OF AMERICA\").select(\"Aircraft\",\"MissionDate\").show()"
      ],
      "metadata": {
        "colab": {
          "base_uri": "https://localhost:8080/"
        },
        "id": "9Ja2AurQ3WGx",
        "outputId": "afaf8450-1389-4e2b-81e9-fa9a35aeb5a4"
      },
      "execution_count": null,
      "outputs": [
        {
          "output_type": "stream",
          "name": "stdout",
          "text": [
            "+--------+-----------+\n",
            "|Aircraft|MissionDate|\n",
            "+--------+-----------+\n",
            "|   EC-47| 1971-06-05|\n",
            "|   EC-47| 1972-12-26|\n",
            "|    RF-4| 1973-07-28|\n",
            "|     A-1| 1970-02-02|\n",
            "|     F-4| 1970-11-25|\n",
            "|     A-4| 1972-03-08|\n",
            "|     F-4| 1971-12-27|\n",
            "|     A-7| 1972-05-24|\n",
            "|   EC-47| 1972-09-12|\n",
            "|   CH-53| 1974-06-13|\n",
            "|   CH-53| 1974-12-19|\n",
            "|     C-7| 1970-05-08|\n",
            "|     A-6| 1971-05-12|\n",
            "|   EB-66| 1971-12-03|\n",
            "|     A-6| 1972-08-18|\n",
            "|     A-7| 1972-10-15|\n",
            "|     F-4| 1972-11-09|\n",
            "|   C-123| 1970-02-23|\n",
            "|     F-4| 1972-04-26|\n",
            "|     A-7| 1972-08-24|\n",
            "+--------+-----------+\n",
            "only showing top 20 rows\n",
            "\n"
          ]
        }
      ]
    },
    {
      "cell_type": "code",
      "source": [
        "Bombing_Operations.where(Bombing_Operations.ContryFlyingMission==\"UNITED STATES OF AMERICA\").select(\"Aircraft\",\"MissionDate\").collect()"
      ],
      "metadata": {
        "colab": {
          "base_uri": "https://localhost:8080/"
        },
        "id": "dtG8IVy23ZWq",
        "outputId": "19f1d2cf-bd42-46d0-e91c-ab76ca282949"
      },
      "execution_count": null,
      "outputs": [
        {
          "output_type": "execute_result",
          "data": {
            "text/plain": [
              "[Row(Aircraft='EC-47', MissionDate='1971-06-05'),\n",
              " Row(Aircraft='EC-47', MissionDate='1972-12-26'),\n",
              " Row(Aircraft='RF-4', MissionDate='1973-07-28'),\n",
              " Row(Aircraft='A-1', MissionDate='1970-02-02'),\n",
              " Row(Aircraft='F-4', MissionDate='1970-11-25'),\n",
              " Row(Aircraft='A-4', MissionDate='1972-03-08'),\n",
              " Row(Aircraft='F-4', MissionDate='1971-12-27'),\n",
              " Row(Aircraft='A-7', MissionDate='1972-05-24'),\n",
              " Row(Aircraft='EC-47', MissionDate='1972-09-12'),\n",
              " Row(Aircraft='CH-53', MissionDate='1974-06-13'),\n",
              " Row(Aircraft='CH-53', MissionDate='1974-12-19'),\n",
              " Row(Aircraft='C-7', MissionDate='1970-05-08'),\n",
              " Row(Aircraft='A-6', MissionDate='1971-05-12'),\n",
              " Row(Aircraft='EB-66', MissionDate='1971-12-03'),\n",
              " Row(Aircraft='A-6', MissionDate='1972-08-18'),\n",
              " Row(Aircraft='A-7', MissionDate='1972-10-15'),\n",
              " Row(Aircraft='F-4', MissionDate='1972-11-09'),\n",
              " Row(Aircraft='C-123', MissionDate='1970-02-23'),\n",
              " Row(Aircraft='F-4', MissionDate='1972-04-26'),\n",
              " Row(Aircraft='A-7', MissionDate='1972-08-24'),\n",
              " Row(Aircraft='AC-130', MissionDate='1971-10-05'),\n",
              " Row(Aircraft='A-37', MissionDate='1971-12-13'),\n",
              " Row(Aircraft='F-4', MissionDate='1972-01-01'),\n",
              " Row(Aircraft='RF-4', MissionDate='1972-01-08'),\n",
              " Row(Aircraft='F-4', MissionDate='1970-10-27'),\n",
              " Row(Aircraft='F-105', MissionDate='1970-10-02'),\n",
              " Row(Aircraft='RF-4', MissionDate='1970-12-08'),\n",
              " Row(Aircraft='AC-119', MissionDate='1971-06-01'),\n",
              " Row(Aircraft='F-4', MissionDate='1971-06-23'),\n",
              " Row(Aircraft='A-7', MissionDate='1972-06-20'),\n",
              " Row(Aircraft='A-6', MissionDate='1971-08-11'),\n",
              " Row(Aircraft='F-4', MissionDate='1971-09-09'),\n",
              " Row(Aircraft='A-7', MissionDate='1972-05-07'),\n",
              " Row(Aircraft='F-4', MissionDate='1972-05-26'),\n",
              " Row(Aircraft='A-7', MissionDate='1972-10-28'),\n",
              " Row(Aircraft='A-7', MissionDate='1973-02-24'),\n",
              " Row(Aircraft='EC-121', MissionDate='1974-05-02'),\n",
              " Row(Aircraft='RF-4', MissionDate='1974-08-01'),\n",
              " Row(Aircraft='B-52', MissionDate='1972-02-21'),\n",
              " Row(Aircraft='AC-130', MissionDate='1972-05-08'),\n",
              " Row(Aircraft='A-37', MissionDate='1972-08-03'),\n",
              " Row(Aircraft='A-7', MissionDate='1973-02-17'),\n",
              " Row(Aircraft='A-7', MissionDate='1973-05-06'),\n",
              " Row(Aircraft='F-4', MissionDate='1970-05-14'),\n",
              " Row(Aircraft='F-4', MissionDate='1971-02-13'),\n",
              " Row(Aircraft='EC-47', MissionDate='1971-09-27'),\n",
              " Row(Aircraft='F-4', MissionDate='1972-04-25'),\n",
              " Row(Aircraft='A-37', MissionDate='1972-08-09'),\n",
              " Row(Aircraft='F-4', MissionDate='1972-10-30'),\n",
              " Row(Aircraft='EC-47', MissionDate='1970-04-22'),\n",
              " Row(Aircraft='F-111', MissionDate='1973-03-29'),\n",
              " Row(Aircraft='C-130', MissionDate='1970-01-16'),\n",
              " Row(Aircraft='QU-22', MissionDate='1972-08-07'),\n",
              " Row(Aircraft='B-52', MissionDate='1973-07-12'),\n",
              " Row(Aircraft='RF-4', MissionDate='1973-08-25'),\n",
              " Row(Aircraft='RF-4', MissionDate='1973-09-16'),\n",
              " Row(Aircraft='F-4', MissionDate='1970-02-07'),\n",
              " Row(Aircraft='A-6', MissionDate='1971-03-03'),\n",
              " Row(Aircraft='B-57', MissionDate='1971-06-24'),\n",
              " Row(Aircraft='A-7', MissionDate='1972-11-19'),\n",
              " Row(Aircraft='AC-119', MissionDate='1971-02-17'),\n",
              " Row(Aircraft='AC-119', MissionDate='1971-11-05'),\n",
              " Row(Aircraft='AC-130', MissionDate='1972-03-01'),\n",
              " Row(Aircraft='B-52', MissionDate='1973-01-06'),\n",
              " Row(Aircraft='A-6', MissionDate='1971-02-06'),\n",
              " Row(Aircraft='AC-130', MissionDate='1971-04-21'),\n",
              " Row(Aircraft='F-4', MissionDate='1972-01-12'),\n",
              " Row(Aircraft='F-4', MissionDate='1972-07-18'),\n",
              " Row(Aircraft='F-4', MissionDate='1972-07-22'),\n",
              " Row(Aircraft='A-6', MissionDate='1972-09-26'),\n",
              " Row(Aircraft='F-4', MissionDate='1970-11-16'),\n",
              " Row(Aircraft='B-52', MissionDate='1972-11-26'),\n",
              " Row(Aircraft='B-52', MissionDate='1972-11-30'),\n",
              " Row(Aircraft='A-1', MissionDate='1970-05-19'),\n",
              " Row(Aircraft='F-4', MissionDate='1970-10-13'),\n",
              " Row(Aircraft='F-100', MissionDate='1970-12-18'),\n",
              " Row(Aircraft='F-4', MissionDate='1972-10-22'),\n",
              " Row(Aircraft='O-2', MissionDate='1971-04-01'),\n",
              " Row(Aircraft='AC-130', MissionDate='1971-04-26'),\n",
              " Row(Aircraft='A-6', MissionDate='1972-04-30'),\n",
              " Row(Aircraft='F-4', MissionDate='1971-01-09'),\n",
              " Row(Aircraft='F-4', MissionDate='1971-03-04'),\n",
              " Row(Aircraft='O-2', MissionDate='1971-07-09'),\n",
              " Row(Aircraft='F-4', MissionDate='1972-06-30'),\n",
              " Row(Aircraft='F-4', MissionDate='1973-07-22'),\n",
              " Row(Aircraft='F-4', MissionDate='1970-02-03'),\n",
              " Row(Aircraft='A-1', MissionDate='1970-07-04'),\n",
              " Row(Aircraft='EC-47', MissionDate='1970-10-08'),\n",
              " Row(Aircraft='A-7', MissionDate='1971-05-25'),\n",
              " Row(Aircraft='AC-130', MissionDate='1970-01-18'),\n",
              " Row(Aircraft='A-1', MissionDate='1970-04-08'),\n",
              " Row(Aircraft='RF-101', MissionDate='1970-04-17'),\n",
              " Row(Aircraft='F-4', MissionDate='1970-10-04'),\n",
              " Row(Aircraft='A-7', MissionDate='1971-05-29'),\n",
              " Row(Aircraft='F-4', MissionDate='1972-08-10'),\n",
              " Row(Aircraft='QU-22', MissionDate='1971-06-29'),\n",
              " Row(Aircraft='A-37', MissionDate='1972-09-13'),\n",
              " Row(Aircraft='UC-123', MissionDate='1971-03-07'),\n",
              " Row(Aircraft='F-4', MissionDate='1972-12-10'),\n",
              " Row(Aircraft='T-39', MissionDate='1970-01-03'),\n",
              " Row(Aircraft='C-130', MissionDate='1970-01-20'),\n",
              " Row(Aircraft='F-4', MissionDate='1970-04-02'),\n",
              " Row(Aircraft='F-4', MissionDate='1971-08-17'),\n",
              " Row(Aircraft='F-4', MissionDate='1972-05-08'),\n",
              " Row(Aircraft='F-4', MissionDate='1971-12-31'),\n",
              " Row(Aircraft='A-6', MissionDate='1972-07-29'),\n",
              " Row(Aircraft='F-4', MissionDate='1972-08-09'),\n",
              " Row(Aircraft='A-7', MissionDate='1971-11-23'),\n",
              " Row(Aircraft='OV-10', MissionDate='1972-04-16'),\n",
              " Row(Aircraft='F-4', MissionDate='1972-07-06'),\n",
              " Row(Aircraft='A-7', MissionDate='1972-07-22'),\n",
              " Row(Aircraft='AC-119', MissionDate='1971-07-14'),\n",
              " Row(Aircraft='EC-47', MissionDate='1972-03-29'),\n",
              " Row(Aircraft='AC-130', MissionDate='1972-04-18'),\n",
              " Row(Aircraft='A-7', MissionDate='1972-09-13'),\n",
              " Row(Aircraft='A-6', MissionDate='1970-05-15'),\n",
              " Row(Aircraft='A-37', MissionDate='1971-04-09'),\n",
              " Row(Aircraft='AC-119', MissionDate='1972-07-10'),\n",
              " Row(Aircraft='F-4', MissionDate='1972-09-29'),\n",
              " Row(Aircraft='F-111', MissionDate='1973-04-22'),\n",
              " Row(Aircraft='A-7', MissionDate='1973-04-29'),\n",
              " Row(Aircraft='A-6', MissionDate='1970-01-27'),\n",
              " Row(Aircraft='HH-53', MissionDate='1973-06-12'),\n",
              " Row(Aircraft='F-4', MissionDate='1971-03-19'),\n",
              " Row(Aircraft='B-52', MissionDate='1972-08-28'),\n",
              " Row(Aircraft='A-4', MissionDate='1971-02-17'),\n",
              " Row(Aircraft='F-4', MissionDate='1971-02-18'),\n",
              " Row(Aircraft='F-4', MissionDate='1971-03-02'),\n",
              " Row(Aircraft='AC-119', MissionDate='1971-04-26'),\n",
              " Row(Aircraft='EC-47', MissionDate='1971-10-01'),\n",
              " Row(Aircraft='F-4', MissionDate='1971-10-26'),\n",
              " Row(Aircraft='A-7', MissionDate='1972-01-29'),\n",
              " Row(Aircraft='F-4', MissionDate='1972-04-02'),\n",
              " Row(Aircraft='A-6', MissionDate='1972-08-06'),\n",
              " Row(Aircraft='A-4', MissionDate='1972-08-09'),\n",
              " Row(Aircraft='F-4', MissionDate='1972-06-14'),\n",
              " Row(Aircraft='C-47', MissionDate='1970-02-22'),\n",
              " Row(Aircraft='F-105', MissionDate='1970-07-29'),\n",
              " Row(Aircraft='AC-130', MissionDate='1972-02-18'),\n",
              " Row(Aircraft='A-7', MissionDate='1972-10-14'),\n",
              " Row(Aircraft='F-4', MissionDate='1972-11-17'),\n",
              " Row(Aircraft='EC-121', MissionDate='1970-04-08'),\n",
              " Row(Aircraft='HH-43', MissionDate='1970-09-22'),\n",
              " Row(Aircraft='O-2', MissionDate='1971-02-05'),\n",
              " Row(Aircraft='F-4', MissionDate='1971-08-14'),\n",
              " Row(Aircraft='EC-47', MissionDate='1972-05-15'),\n",
              " Row(Aircraft='RC-135', MissionDate='1972-07-26'),\n",
              " Row(Aircraft='F-4', MissionDate='1973-01-27'),\n",
              " Row(Aircraft='AC-119', MissionDate='1970-04-19'),\n",
              " Row(Aircraft='UC-123', MissionDate='1970-11-12'),\n",
              " Row(Aircraft='F-100', MissionDate='1971-01-23'),\n",
              " Row(Aircraft='A-6', MissionDate='1972-12-03'),\n",
              " Row(Aircraft='A-7', MissionDate='1970-02-21'),\n",
              " Row(Aircraft='CH-46', MissionDate='1971-04-25'),\n",
              " Row(Aircraft='F-111', MissionDate='1972-11-28'),\n",
              " Row(Aircraft='A-4', MissionDate='1971-01-30'),\n",
              " Row(Aircraft='AC-130', MissionDate='1973-05-30'),\n",
              " Row(Aircraft='F-4', MissionDate='1970-01-30'),\n",
              " Row(Aircraft='AC-130', MissionDate='1973-06-20'),\n",
              " Row(Aircraft='F-4', MissionDate='1971-03-06'),\n",
              " Row(Aircraft='UH-1', MissionDate='1971-04-26'),\n",
              " Row(Aircraft='A-7', MissionDate='1971-05-24'),\n",
              " Row(Aircraft='F-4', MissionDate='1972-07-19'),\n",
              " Row(Aircraft='F-105', MissionDate='1970-01-19'),\n",
              " Row(Aircraft='OV-10', MissionDate='1971-07-03'),\n",
              " Row(Aircraft='E-1', MissionDate='1972-02-22'),\n",
              " Row(Aircraft='A-7', MissionDate='1972-11-27'),\n",
              " Row(Aircraft='AC-119', MissionDate='1973-01-17'),\n",
              " Row(Aircraft='AC-130', MissionDate='1973-04-21'),\n",
              " Row(Aircraft='F-4', MissionDate='1973-05-10'),\n",
              " Row(Aircraft='O-2', MissionDate='1971-01-06'),\n",
              " Row(Aircraft='UC-123', MissionDate='1972-04-06'),\n",
              " Row(Aircraft='F-4', MissionDate='1972-12-06'),\n",
              " Row(Aircraft='A-6', MissionDate='1970-08-25'),\n",
              " Row(Aircraft='A-1', MissionDate='1971-01-03'),\n",
              " Row(Aircraft='A-7', MissionDate='1973-04-04'),\n",
              " Row(Aircraft='A-7', MissionDate='1972-09-16'),\n",
              " Row(Aircraft='F-100', MissionDate='1971-06-10'),\n",
              " Row(Aircraft='A-7', MissionDate='1972-08-21'),\n",
              " Row(Aircraft='F-4', MissionDate='1972-08-23'),\n",
              " Row(Aircraft='EC-47', MissionDate='1972-10-12'),\n",
              " Row(Aircraft='F-4', MissionDate='1970-05-22'),\n",
              " Row(Aircraft='A-7', MissionDate='1972-09-12'),\n",
              " Row(Aircraft='F-4', MissionDate='1972-10-08'),\n",
              " Row(Aircraft='A-7', MissionDate='1974-01-09'),\n",
              " Row(Aircraft='AC-119', MissionDate='1971-05-05'),\n",
              " Row(Aircraft='A-7', MissionDate='1971-07-15'),\n",
              " Row(Aircraft='AC-130', MissionDate='1972-07-19'),\n",
              " Row(Aircraft='F-4', MissionDate='1970-03-12'),\n",
              " Row(Aircraft='OV-10', MissionDate='1970-04-01'),\n",
              " Row(Aircraft='F-4', MissionDate='1970-11-08'),\n",
              " Row(Aircraft='EC-47', MissionDate='1971-01-11'),\n",
              " Row(Aircraft='AC-119', MissionDate='1971-03-06'),\n",
              " Row(Aircraft='F-100', MissionDate='1970-05-28'),\n",
              " Row(Aircraft='F-100', MissionDate='1970-07-08'),\n",
              " Row(Aircraft='EC-130', MissionDate='1972-12-23'),\n",
              " Row(Aircraft='AC-130', MissionDate='1973-02-14'),\n",
              " Row(Aircraft='F-4', MissionDate='1970-03-01'),\n",
              " Row(Aircraft='A-6', MissionDate='1971-01-01'),\n",
              " Row(Aircraft='A-6', MissionDate='1971-03-09'),\n",
              " Row(Aircraft='F-4', MissionDate='1971-12-12'),\n",
              " Row(Aircraft='A-6', MissionDate='1972-06-24'),\n",
              " Row(Aircraft='B-52', MissionDate='1972-12-03'),\n",
              " Row(Aircraft='A-7', MissionDate='1973-02-13'),\n",
              " Row(Aircraft='AC-119', MissionDate='1972-04-03'),\n",
              " Row(Aircraft='A-37', MissionDate='1972-05-30'),\n",
              " Row(Aircraft='F-4', MissionDate='1973-01-05'),\n",
              " Row(Aircraft='F-111', MissionDate='1973-01-19'),\n",
              " Row(Aircraft='F-4', MissionDate='1971-04-10'),\n",
              " Row(Aircraft='A-4', MissionDate='1972-08-30'),\n",
              " Row(Aircraft='RF-4', MissionDate='1973-05-12'),\n",
              " Row(Aircraft='F-4', MissionDate='1971-10-16'),\n",
              " Row(Aircraft='EC-47', MissionDate='1972-07-11'),\n",
              " Row(Aircraft='A-7', MissionDate='1973-01-13'),\n",
              " Row(Aircraft='F-4', MissionDate='1973-02-18'),\n",
              " Row(Aircraft='F-111', MissionDate='1973-05-09'),\n",
              " Row(Aircraft='F-4', MissionDate='1974-06-11'),\n",
              " Row(Aircraft='F-4', MissionDate='1970-10-29'),\n",
              " Row(Aircraft='F-4', MissionDate='1971-03-07'),\n",
              " Row(Aircraft='F-4', MissionDate='1970-02-08'),\n",
              " Row(Aircraft='F-4', MissionDate='1970-06-24'),\n",
              " Row(Aircraft='F-4', MissionDate='1973-04-30'),\n",
              " Row(Aircraft='A-4', MissionDate='1972-08-02'),\n",
              " Row(Aircraft='B-52', MissionDate='1972-09-01'),\n",
              " Row(Aircraft='A-37', MissionDate='1970-04-02'),\n",
              " Row(Aircraft='RF-4', MissionDate='1970-12-11'),\n",
              " Row(Aircraft='A-6', MissionDate='1972-05-22'),\n",
              " Row(Aircraft='AC-130', MissionDate='1974-06-14'),\n",
              " Row(Aircraft='B-57', MissionDate='1971-06-24'),\n",
              " Row(Aircraft='AC-130', MissionDate='1972-04-19'),\n",
              " Row(Aircraft='F-4', MissionDate='1971-06-27'),\n",
              " Row(Aircraft='F-4', MissionDate='1972-04-16'),\n",
              " Row(Aircraft='F-4', MissionDate='1972-09-21'),\n",
              " Row(Aircraft='F-4', MissionDate='1971-03-13'),\n",
              " Row(Aircraft='A-7', MissionDate='1971-06-15'),\n",
              " Row(Aircraft='A-7', MissionDate='1971-10-07'),\n",
              " Row(Aircraft='F-4', MissionDate='1973-05-05'),\n",
              " Row(Aircraft='AC-130', MissionDate='1972-10-03'),\n",
              " Row(Aircraft='F-111', MissionDate='1973-01-03'),\n",
              " Row(Aircraft='F-4', MissionDate='1971-03-04'),\n",
              " Row(Aircraft='O-2', MissionDate='1972-05-09'),\n",
              " Row(Aircraft='AC-130', MissionDate='1973-03-18'),\n",
              " Row(Aircraft='OV-10', MissionDate='1974-09-26'),\n",
              " Row(Aircraft='EC-47', MissionDate='1970-07-14'),\n",
              " Row(Aircraft='HH-43', MissionDate='1970-09-12'),\n",
              " Row(Aircraft='F-4', MissionDate='1970-10-07'),\n",
              " Row(Aircraft='F-4', MissionDate='1972-04-08'),\n",
              " Row(Aircraft='AC-119', MissionDate='1970-06-01'),\n",
              " Row(Aircraft='A-6', MissionDate='1970-12-04'),\n",
              " Row(Aircraft='F-100', MissionDate='1971-03-12'),\n",
              " Row(Aircraft='EC-47', MissionDate='1971-07-24'),\n",
              " Row(Aircraft='KC-135', MissionDate='1972-04-06'),\n",
              " Row(Aircraft='F-4', MissionDate='1972-04-23'),\n",
              " Row(Aircraft='A-1', MissionDate='1972-05-07'),\n",
              " Row(Aircraft='A-6', MissionDate='1970-03-10'),\n",
              " Row(Aircraft='AC-119', MissionDate='1972-03-08'),\n",
              " Row(Aircraft='F-4', MissionDate='1972-08-10'),\n",
              " Row(Aircraft='OV-10', MissionDate='1972-08-30'),\n",
              " Row(Aircraft='B-52', MissionDate='1972-12-09'),\n",
              " Row(Aircraft='A-7', MissionDate='1970-02-24'),\n",
              " Row(Aircraft='F-105', MissionDate='1970-03-10'),\n",
              " Row(Aircraft='OV-10', MissionDate='1971-05-12'),\n",
              " Row(Aircraft='WC-130', MissionDate='1971-08-06'),\n",
              " Row(Aircraft='A-37', MissionDate='1971-11-25'),\n",
              " Row(Aircraft='A-4', MissionDate='1972-05-16'),\n",
              " Row(Aircraft='EC-121', MissionDate='1973-12-03'),\n",
              " Row(Aircraft='F-4', MissionDate='1970-01-17'),\n",
              " Row(Aircraft='F-100', MissionDate='1970-01-24'),\n",
              " Row(Aircraft='A-37', MissionDate='1971-11-19'),\n",
              " Row(Aircraft='A-7', MissionDate='1973-01-12'),\n",
              " Row(Aircraft='KC-135', MissionDate='1973-03-08'),\n",
              " Row(Aircraft='F-4', MissionDate='1970-02-04'),\n",
              " Row(Aircraft='A-7', MissionDate='1972-04-19'),\n",
              " Row(Aircraft='F-4', MissionDate='1972-11-27'),\n",
              " Row(Aircraft='F-4', MissionDate='1973-02-01'),\n",
              " Row(Aircraft='EC-121', MissionDate='1972-06-05'),\n",
              " Row(Aircraft='EB-66', MissionDate='1972-08-18'),\n",
              " Row(Aircraft='A-7', MissionDate='1972-12-22'),\n",
              " Row(Aircraft='RF-4', MissionDate='1975-04-01'),\n",
              " Row(Aircraft='C-7', MissionDate='1970-10-29'),\n",
              " Row(Aircraft='C-7', MissionDate='1970-11-17'),\n",
              " Row(Aircraft='A-1', MissionDate='1971-04-26'),\n",
              " Row(Aircraft='F-4', MissionDate='1971-06-04'),\n",
              " Row(Aircraft='F-100', MissionDate='1970-08-03'),\n",
              " Row(Aircraft='EC-47', MissionDate='1970-10-13'),\n",
              " Row(Aircraft='F-4', MissionDate='1971-04-17'),\n",
              " Row(Aircraft='C-130', MissionDate='1973-01-28'),\n",
              " Row(Aircraft='F-4', MissionDate='1970-02-28'),\n",
              " Row(Aircraft='A-6', MissionDate='1971-03-13'),\n",
              " Row(Aircraft='QU-22', MissionDate='1971-08-11'),\n",
              " Row(Aircraft='AC-130', MissionDate='1971-09-17'),\n",
              " Row(Aircraft='F-4', MissionDate='1971-11-21'),\n",
              " Row(Aircraft='F-4', MissionDate='1971-10-13'),\n",
              " Row(Aircraft='O-2', MissionDate='1970-06-29'),\n",
              " Row(Aircraft='AC-130', MissionDate='1971-01-29'),\n",
              " Row(Aircraft='C-7', MissionDate='1971-04-03'),\n",
              " Row(Aircraft='AC-119', MissionDate='1971-08-27'),\n",
              " Row(Aircraft='EC-47', MissionDate='1972-01-26'),\n",
              " Row(Aircraft='EC-47', MissionDate='1972-05-21'),\n",
              " Row(Aircraft='A-7', MissionDate='1973-06-25'),\n",
              " Row(Aircraft='KA-6', MissionDate='1971-12-23'),\n",
              " Row(Aircraft='F-111', MissionDate='1973-06-14'),\n",
              " Row(Aircraft='A-37', MissionDate='1970-05-31'),\n",
              " Row(Aircraft='A-7', MissionDate='1970-12-23'),\n",
              " Row(Aircraft='F-4', MissionDate='1973-07-24'),\n",
              " Row(Aircraft='F-4', MissionDate='1970-05-08'),\n",
              " Row(Aircraft='HH-3', MissionDate='1970-06-27'),\n",
              " Row(Aircraft='A-4', MissionDate='1970-12-26'),\n",
              " Row(Aircraft='EC-121', MissionDate='1970-02-09'),\n",
              " Row(Aircraft='B-57', MissionDate='1971-03-16'),\n",
              " Row(Aircraft='F-4', MissionDate='1971-05-01'),\n",
              " Row(Aircraft='RF-4', MissionDate='1971-06-27'),\n",
              " Row(Aircraft='A-6', MissionDate='1972-06-09'),\n",
              " Row(Aircraft='F-105', MissionDate='1970-02-15'),\n",
              " Row(Aircraft='A-6', MissionDate='1972-01-28'),\n",
              " Row(Aircraft='A-37', MissionDate='1972-04-28'),\n",
              " Row(Aircraft='F-4', MissionDate='1972-05-23'),\n",
              " Row(Aircraft='A-7', MissionDate='1970-03-03'),\n",
              " Row(Aircraft='F-4', MissionDate='1971-02-14'),\n",
              " Row(Aircraft='F-100', MissionDate='1971-04-27'),\n",
              " Row(Aircraft='AC-119', MissionDate='1972-07-10'),\n",
              " Row(Aircraft='B-52', MissionDate='1972-10-30'),\n",
              " Row(Aircraft='A-7', MissionDate='1972-12-23'),\n",
              " Row(Aircraft='F-4', MissionDate='1970-01-19'),\n",
              " Row(Aircraft='A-7', MissionDate='1970-03-28'),\n",
              " Row(Aircraft='A-4', MissionDate='1971-02-14'),\n",
              " Row(Aircraft='F-4', MissionDate='1971-04-13'),\n",
              " Row(Aircraft='O-2', MissionDate='1970-02-21'),\n",
              " Row(Aircraft='C-130', MissionDate='1971-10-12'),\n",
              " Row(Aircraft='A-6', MissionDate='1972-01-14'),\n",
              " Row(Aircraft='F-4', MissionDate='1972-05-25'),\n",
              " Row(Aircraft='F-105', MissionDate='1973-04-07'),\n",
              " Row(Aircraft='EC-121', MissionDate='1973-04-21'),\n",
              " Row(Aircraft='F-4', MissionDate='1970-04-21'),\n",
              " Row(Aircraft='OV-10', MissionDate='1970-07-11'),\n",
              " Row(Aircraft='F-4', MissionDate='1973-06-08'),\n",
              " Row(Aircraft='F-100', MissionDate='1970-11-27'),\n",
              " Row(Aircraft='AC-130', MissionDate='1971-03-27'),\n",
              " Row(Aircraft='OV-10', MissionDate='1971-12-11'),\n",
              " Row(Aircraft='F-4', MissionDate='1973-01-31'),\n",
              " Row(Aircraft='F-4', MissionDate='1973-06-25'),\n",
              " Row(Aircraft='A-4', MissionDate='1971-01-30'),\n",
              " Row(Aircraft='F-4', MissionDate='1971-04-22'),\n",
              " Row(Aircraft='A-6', MissionDate='1972-08-04'),\n",
              " Row(Aircraft='A-4', MissionDate='1972-09-12'),\n",
              " Row(Aircraft='C-130', MissionDate='1974-07-08'),\n",
              " Row(Aircraft='F-105', MissionDate='1970-02-18'),\n",
              " Row(Aircraft='O-2', MissionDate='1970-04-08'),\n",
              " Row(Aircraft='O-2', MissionDate='1970-04-19'),\n",
              " Row(Aircraft='HC-130', MissionDate='1970-10-17'),\n",
              " Row(Aircraft='A-6', MissionDate='1970-12-14'),\n",
              " Row(Aircraft='A-37', MissionDate='1972-06-09'),\n",
              " Row(Aircraft='F-4', MissionDate='1971-12-03'),\n",
              " Row(Aircraft='F-4', MissionDate='1970-01-23'),\n",
              " Row(Aircraft='F-4', MissionDate='1970-04-03'),\n",
              " Row(Aircraft='F-4', MissionDate='1970-08-13'),\n",
              " Row(Aircraft='A-6', MissionDate='1970-08-05'),\n",
              " Row(Aircraft='F-100', MissionDate='1970-11-22'),\n",
              " Row(Aircraft='B-52', MissionDate='1972-10-16'),\n",
              " Row(Aircraft='F-4', MissionDate='1973-01-22'),\n",
              " Row(Aircraft='EC-47', MissionDate='1970-11-28'),\n",
              " Row(Aircraft='A-7', MissionDate='1970-12-23'),\n",
              " Row(Aircraft='O-2', MissionDate='1971-11-06'),\n",
              " Row(Aircraft='F-4', MissionDate='1972-07-06'),\n",
              " Row(Aircraft='EC-47', MissionDate='1970-11-23'),\n",
              " Row(Aircraft='F-4', MissionDate='1970-12-28'),\n",
              " Row(Aircraft='B-57', MissionDate='1971-02-28'),\n",
              " Row(Aircraft='F-4', MissionDate='1972-12-22'),\n",
              " Row(Aircraft='F-4', MissionDate='1972-01-24'),\n",
              " Row(Aircraft='UC-123', MissionDate='1970-02-11'),\n",
              " Row(Aircraft='AC-119', MissionDate='1970-04-03'),\n",
              " Row(Aircraft='AC-119', MissionDate='1972-11-19'),\n",
              " Row(Aircraft='C-123', MissionDate='1970-08-23'),\n",
              " Row(Aircraft='EC-47', MissionDate='1971-08-06'),\n",
              " Row(Aircraft='F-4', MissionDate='1973-05-13'),\n",
              " Row(Aircraft='A-7', MissionDate='1972-05-22'),\n",
              " Row(Aircraft='A-37', MissionDate='1970-09-30'),\n",
              " Row(Aircraft='AC-130', MissionDate='1971-06-01'),\n",
              " Row(Aircraft='B-57', MissionDate='1972-03-12'),\n",
              " Row(Aircraft='F-100', MissionDate='1970-08-31'),\n",
              " Row(Aircraft='F-4', MissionDate='1970-11-17'),\n",
              " Row(Aircraft='O-2', MissionDate='1971-07-17'),\n",
              " Row(Aircraft='RF-4', MissionDate='1971-08-22'),\n",
              " Row(Aircraft='B-52', MissionDate='1973-04-04'),\n",
              " Row(Aircraft='F-4', MissionDate='1971-09-02'),\n",
              " Row(Aircraft='A-7', MissionDate='1972-06-21'),\n",
              " Row(Aircraft='F-4', MissionDate='1970-10-13'),\n",
              " Row(Aircraft='AC-119', MissionDate='1972-06-15'),\n",
              " Row(Aircraft='B-52', MissionDate='1973-04-29'),\n",
              " Row(Aircraft='F-4', MissionDate='1973-08-01'),\n",
              " Row(Aircraft='F-4', MissionDate='1970-03-08'),\n",
              " Row(Aircraft='F-4', MissionDate='1972-05-19'),\n",
              " Row(Aircraft='B-52', MissionDate='1972-09-30'),\n",
              " Row(Aircraft='B-52', MissionDate='1972-10-18'),\n",
              " Row(Aircraft='A-6', MissionDate='1972-11-30'),\n",
              " Row(Aircraft='F-4', MissionDate='1971-01-29'),\n",
              " Row(Aircraft='EC-47', MissionDate='1971-02-17'),\n",
              " Row(Aircraft='F-4', MissionDate='1971-05-29'),\n",
              " Row(Aircraft='F-105', MissionDate='1972-09-29'),\n",
              " Row(Aircraft='A-7', MissionDate='1970-03-19'),\n",
              " Row(Aircraft='F-4', MissionDate='1971-05-10'),\n",
              " Row(Aircraft='F-4', MissionDate='1972-02-07'),\n",
              " Row(Aircraft='A-4', MissionDate='1972-08-08'),\n",
              " Row(Aircraft='AC-119', MissionDate='1970-05-09'),\n",
              " Row(Aircraft='CH-3', MissionDate='1971-08-11'),\n",
              " Row(Aircraft='F-4', MissionDate='1972-08-28'),\n",
              " Row(Aircraft='A-7', MissionDate='1972-09-18'),\n",
              " Row(Aircraft='AC-130', MissionDate='1971-01-06'),\n",
              " Row(Aircraft='A-7', MissionDate='1971-03-16'),\n",
              " Row(Aircraft='A-7', MissionDate='1971-07-18'),\n",
              " Row(Aircraft='F-4', MissionDate='1971-10-17'),\n",
              " Row(Aircraft='C-123', MissionDate='1970-02-23'),\n",
              " Row(Aircraft='EB-66', MissionDate='1970-07-05'),\n",
              " Row(Aircraft='C-130', MissionDate='1972-03-18'),\n",
              " Row(Aircraft='B-52', MissionDate='1973-01-19'),\n",
              " Row(Aircraft='EC-47', MissionDate='1971-01-03'),\n",
              " Row(Aircraft='AC-119', MissionDate='1971-02-20'),\n",
              " Row(Aircraft='A-37', MissionDate='1972-07-14'),\n",
              " Row(Aircraft='F-4', MissionDate='1973-02-03'),\n",
              " Row(Aircraft='EB-66', MissionDate='1973-02-16'),\n",
              " Row(Aircraft='F-4', MissionDate='1970-09-08'),\n",
              " Row(Aircraft='F-4', MissionDate='1970-12-23'),\n",
              " Row(Aircraft='B-57', MissionDate='1971-03-07'),\n",
              " Row(Aircraft='QU-22', MissionDate='1972-03-31'),\n",
              " Row(Aircraft='A-37', MissionDate='1972-08-18'),\n",
              " Row(Aircraft='AC-130', MissionDate='1973-02-17'),\n",
              " Row(Aircraft='RF-4', MissionDate='1970-04-22'),\n",
              " Row(Aircraft='AC-130', MissionDate='1972-05-28'),\n",
              " Row(Aircraft='A-6', MissionDate='1971-05-30'),\n",
              " Row(Aircraft='F-4', MissionDate='1972-06-21'),\n",
              " Row(Aircraft='A-6', MissionDate='1972-06-26'),\n",
              " Row(Aircraft='A-7', MissionDate='1973-02-12'),\n",
              " Row(Aircraft='F-100', MissionDate='1970-10-19'),\n",
              " Row(Aircraft='A-6', MissionDate='1971-10-11'),\n",
              " Row(Aircraft='B-52', MissionDate='1972-11-28'),\n",
              " Row(Aircraft='EC-130', MissionDate='1970-01-20'),\n",
              " Row(Aircraft='F-4', MissionDate='1973-05-08'),\n",
              " Row(Aircraft='F-111', MissionDate='1973-07-28'),\n",
              " Row(Aircraft='EB-66', MissionDate='1971-12-20'),\n",
              " Row(Aircraft='A-37', MissionDate='1972-01-13'),\n",
              " Row(Aircraft='AC-130', MissionDate='1972-06-29'),\n",
              " Row(Aircraft='A-7', MissionDate='1972-09-20'),\n",
              " Row(Aircraft='F-4', MissionDate='1973-04-16'),\n",
              " Row(Aircraft='F-4', MissionDate='1972-05-14'),\n",
              " Row(Aircraft='F-4', MissionDate='1970-01-14'),\n",
              " Row(Aircraft='AC-119', MissionDate='1971-10-11'),\n",
              " Row(Aircraft='AH-1', MissionDate='1972-10-06'),\n",
              " Row(Aircraft='AC-130', MissionDate='1971-01-19'),\n",
              " Row(Aircraft='F-4', MissionDate='1971-05-31'),\n",
              " Row(Aircraft='A-7', MissionDate='1972-10-26'),\n",
              " Row(Aircraft='EC-121', MissionDate='1970-06-11'),\n",
              " Row(Aircraft='A-7', MissionDate='1971-03-06'),\n",
              " Row(Aircraft='EC-47', MissionDate='1971-07-07'),\n",
              " Row(Aircraft='O-2', MissionDate='1971-07-19'),\n",
              " Row(Aircraft='A-7', MissionDate='1972-04-16'),\n",
              " Row(Aircraft='F-4', MissionDate='1972-10-19'),\n",
              " Row(Aircraft='F-4', MissionDate='1970-03-10'),\n",
              " Row(Aircraft='F-4', MissionDate='1970-03-31'),\n",
              " Row(Aircraft='F-105', MissionDate='1970-06-04'),\n",
              " Row(Aircraft='A-4', MissionDate='1972-11-13'),\n",
              " Row(Aircraft='U-21', MissionDate='1974-09-20'),\n",
              " Row(Aircraft='A-6', MissionDate='1970-04-26'),\n",
              " Row(Aircraft='OV-10', MissionDate='1970-07-05'),\n",
              " Row(Aircraft='B-57', MissionDate='1971-03-14'),\n",
              " Row(Aircraft='EB-66', MissionDate='1973-10-06'),\n",
              " Row(Aircraft='HH-3', MissionDate='1970-02-19'),\n",
              " Row(Aircraft='F-4', MissionDate='1971-03-03'),\n",
              " Row(Aircraft='F-4', MissionDate='1972-03-19'),\n",
              " Row(Aircraft='F-4', MissionDate='1972-01-19'),\n",
              " Row(Aircraft='F-4', MissionDate='1972-07-13'),\n",
              " Row(Aircraft='A-7', MissionDate='1972-06-02'),\n",
              " Row(Aircraft='B-52', MissionDate='1972-12-29'),\n",
              " Row(Aircraft='F-4', MissionDate='1973-02-19'),\n",
              " Row(Aircraft='F-4', MissionDate='1970-08-06'),\n",
              " Row(Aircraft='A-37', MissionDate='1972-05-13'),\n",
              " Row(Aircraft='F-100', MissionDate='1971-05-11'),\n",
              " Row(Aircraft='OV-10', MissionDate='1971-10-30'),\n",
              " Row(Aircraft='A-7', MissionDate='1973-01-09'),\n",
              " Row(Aircraft='CH-53', MissionDate='1974-05-26'),\n",
              " Row(Aircraft='F-105', MissionDate='1970-04-16'),\n",
              " Row(Aircraft='A-37', MissionDate='1972-07-09'),\n",
              " Row(Aircraft='B-52', MissionDate='1972-11-25'),\n",
              " Row(Aircraft='A-1', MissionDate='1970-01-26'),\n",
              " Row(Aircraft='B-52', MissionDate='1972-07-02'),\n",
              " Row(Aircraft='B-52', MissionDate='1972-07-23'),\n",
              " Row(Aircraft='A-4', MissionDate='1972-11-20'),\n",
              " Row(Aircraft='F-4', MissionDate='1971-03-03'),\n",
              " Row(Aircraft='F-105', MissionDate='1970-03-10'),\n",
              " Row(Aircraft='O-1', MissionDate='1970-05-24'),\n",
              " Row(Aircraft='F-4', MissionDate='1971-11-03'),\n",
              " Row(Aircraft='F-4', MissionDate='1972-01-27'),\n",
              " Row(Aircraft='F-4', MissionDate='1972-02-04'),\n",
              " Row(Aircraft='A-6', MissionDate='1972-09-22'),\n",
              " Row(Aircraft='F-4', MissionDate='1973-03-30'),\n",
              " Row(Aircraft='A-6', MissionDate='1970-01-13'),\n",
              " Row(Aircraft='F-4', MissionDate='1970-01-29'),\n",
              " Row(Aircraft='A-1', MissionDate='1970-11-03'),\n",
              " Row(Aircraft='A-37', MissionDate='1972-06-30'),\n",
              " Row(Aircraft='OV-10', MissionDate='1973-01-30'),\n",
              " Row(Aircraft='F-100', MissionDate='1970-05-09'),\n",
              " Row(Aircraft='HH-43', MissionDate='1971-07-30'),\n",
              " Row(Aircraft='A-7', MissionDate='1971-10-20'),\n",
              " Row(Aircraft='F-4', MissionDate='1971-12-27'),\n",
              " Row(Aircraft='A-7', MissionDate='1972-12-23'),\n",
              " Row(Aircraft='F-100', MissionDate='1970-01-02'),\n",
              " Row(Aircraft='F-100', MissionDate='1970-02-26'),\n",
              " Row(Aircraft='C-7', MissionDate='1970-06-11'),\n",
              " Row(Aircraft='RC-135', MissionDate='1971-01-04'),\n",
              " Row(Aircraft='F-4', MissionDate='1973-06-01'),\n",
              " Row(Aircraft='F-4', MissionDate='1971-01-17'),\n",
              " Row(Aircraft='O-2', MissionDate='1971-02-14'),\n",
              " Row(Aircraft='F-4', MissionDate='1972-03-02'),\n",
              " Row(Aircraft='F-4', MissionDate='1972-03-13'),\n",
              " Row(Aircraft='F-4', MissionDate='1972-05-30'),\n",
              " Row(Aircraft='F-105', MissionDate='1970-07-27'),\n",
              " Row(Aircraft='F-100', MissionDate='1970-09-15'),\n",
              " Row(Aircraft='F-4', MissionDate='1972-01-21'),\n",
              " Row(Aircraft='B-52', MissionDate='1973-03-21'),\n",
              " Row(Aircraft='A-7', MissionDate='1970-04-25'),\n",
              " Row(Aircraft='C-130', MissionDate='1970-11-18'),\n",
              " Row(Aircraft='A-37', MissionDate='1972-05-17'),\n",
              " Row(Aircraft='A-7', MissionDate='1972-05-26'),\n",
              " Row(Aircraft='AC-47', MissionDate='1970-01-03'),\n",
              " Row(Aircraft='A-1', MissionDate='1971-03-09'),\n",
              " Row(Aircraft='F-4', MissionDate='1971-04-02'),\n",
              " Row(Aircraft='AC-119', MissionDate='1971-02-18'),\n",
              " Row(Aircraft='F-4', MissionDate='1972-01-30'),\n",
              " Row(Aircraft='A-7', MissionDate='1973-02-11'),\n",
              " Row(Aircraft='HH-43', MissionDate='1973-03-27'),\n",
              " Row(Aircraft='A-7', MissionDate='1971-03-25'),\n",
              " Row(Aircraft='F-4', MissionDate='1971-03-27'),\n",
              " Row(Aircraft='A-37', MissionDate='1971-04-20'),\n",
              " Row(Aircraft='AC-130', MissionDate='1971-01-29'),\n",
              " Row(Aircraft='C-123', MissionDate='1971-07-25'),\n",
              " Row(Aircraft='A-4', MissionDate='1972-06-24'),\n",
              " Row(Aircraft='A-37', MissionDate='1972-06-28'),\n",
              " Row(Aircraft='A-6', MissionDate='1973-01-14'),\n",
              " Row(Aircraft='F-4', MissionDate='1970-01-13'),\n",
              " Row(Aircraft='O-2', MissionDate='1970-01-22'),\n",
              " Row(Aircraft='F-4', MissionDate='1971-10-08'),\n",
              " Row(Aircraft='AC-130', MissionDate='1971-03-31'),\n",
              " Row(Aircraft='A-6', MissionDate='1971-04-03'),\n",
              " Row(Aircraft='O-2', MissionDate='1971-06-25'),\n",
              " Row(Aircraft='F-4', MissionDate='1972-02-13'),\n",
              " Row(Aircraft='F-4', MissionDate='1972-07-31'),\n",
              " Row(Aircraft='F-4', MissionDate='1971-08-21'),\n",
              " Row(Aircraft='RF-4', MissionDate='1970-08-15'),\n",
              " Row(Aircraft='F-4', MissionDate='1970-05-24'),\n",
              " Row(Aircraft='C-123', MissionDate='1970-04-22'),\n",
              " Row(Aircraft='B-57', MissionDate='1971-01-13'),\n",
              " Row(Aircraft='AC-130', MissionDate='1971-02-28'),\n",
              " Row(Aircraft='F-4', MissionDate='1972-03-19'),\n",
              " Row(Aircraft='AC-130', MissionDate='1972-12-13'),\n",
              " Row(Aircraft='F-100', MissionDate='1970-01-08'),\n",
              " Row(Aircraft='OV-10', MissionDate='1971-01-11'),\n",
              " Row(Aircraft='F-4', MissionDate='1971-02-21'),\n",
              " Row(Aircraft='EC-47', MissionDate='1971-07-05'),\n",
              " Row(Aircraft='B-52', MissionDate='1972-11-25'),\n",
              " Row(Aircraft='A-7', MissionDate='1974-01-09'),\n",
              " Row(Aircraft='A-4', MissionDate='1970-02-07'),\n",
              " Row(Aircraft='F-100', MissionDate='1970-05-26'),\n",
              " Row(Aircraft='EC-121', MissionDate='1970-06-23'),\n",
              " Row(Aircraft='F-100', MissionDate='1970-10-26'),\n",
              " Row(Aircraft='F-4', MissionDate='1973-08-11'),\n",
              " Row(Aircraft='A-1', MissionDate='1970-04-22'),\n",
              " Row(Aircraft='A-4', MissionDate='1970-08-25'),\n",
              " Row(Aircraft='F-100', MissionDate='1970-09-08'),\n",
              " Row(Aircraft='A-4', MissionDate='1971-01-06'),\n",
              " Row(Aircraft='AC-119', MissionDate='1971-05-13'),\n",
              " Row(Aircraft='F-4', MissionDate='1971-09-13'),\n",
              " Row(Aircraft='F-100', MissionDate='1970-04-16'),\n",
              " Row(Aircraft='F-4', MissionDate='1973-01-06'),\n",
              " Row(Aircraft='OV-10', MissionDate='1970-02-17'),\n",
              " Row(Aircraft='AC-130', MissionDate='1971-02-22'),\n",
              " Row(Aircraft='A-4', MissionDate='1972-06-13'),\n",
              " Row(Aircraft='F-100', MissionDate='1970-02-21'),\n",
              " Row(Aircraft='F-4', MissionDate='1970-12-09'),\n",
              " Row(Aircraft='F-4', MissionDate='1971-02-10'),\n",
              " Row(Aircraft='F-100', MissionDate='1971-06-09'),\n",
              " Row(Aircraft='F-4', MissionDate='1971-06-10'),\n",
              " Row(Aircraft='HH-43', MissionDate='1974-02-14'),\n",
              " Row(Aircraft='F-4', MissionDate='1971-07-30'),\n",
              " Row(Aircraft='F-4', MissionDate='1971-12-17'),\n",
              " Row(Aircraft='A-4', MissionDate='1972-05-15'),\n",
              " Row(Aircraft='F-4', MissionDate='1973-01-13'),\n",
              " Row(Aircraft='F-111', MissionDate='1973-06-16'),\n",
              " Row(Aircraft='F-4', MissionDate='1971-12-28'),\n",
              " Row(Aircraft='AC-119', MissionDate='1972-05-12'),\n",
              " Row(Aircraft='A-6', MissionDate='1972-08-04'),\n",
              " Row(Aircraft='RF-4', MissionDate='1973-11-17'),\n",
              " Row(Aircraft='A-7', MissionDate='1971-02-19'),\n",
              " Row(Aircraft='EKA-3', MissionDate='1971-04-25'),\n",
              " Row(Aircraft='A-6', MissionDate='1971-11-01'),\n",
              " Row(Aircraft='F-4', MissionDate='1972-02-14'),\n",
              " Row(Aircraft='A-7', MissionDate='1970-02-24'),\n",
              " Row(Aircraft='EB-66', MissionDate='1970-03-17'),\n",
              " Row(Aircraft='F-105', MissionDate='1970-03-29'),\n",
              " Row(Aircraft='EB-66', MissionDate='1970-09-05'),\n",
              " Row(Aircraft='F-100', MissionDate='1970-06-13'),\n",
              " Row(Aircraft='A-4', MissionDate='1972-07-23'),\n",
              " Row(Aircraft='F-105', MissionDate='1972-11-05'),\n",
              " Row(Aircraft='AC-130', MissionDate='1973-02-05'),\n",
              " Row(Aircraft='F-4', MissionDate='1973-04-20'),\n",
              " Row(Aircraft='HC-130', MissionDate='1970-04-29'),\n",
              " Row(Aircraft='B-52', MissionDate='1973-07-01'),\n",
              " Row(Aircraft='F-4', MissionDate='1972-03-20'),\n",
              " Row(Aircraft='A-6', MissionDate='1970-08-29'),\n",
              " Row(Aircraft='AC-119', MissionDate='1971-12-14'),\n",
              " Row(Aircraft='F-4', MissionDate='1972-01-11'),\n",
              " Row(Aircraft='AC-130', MissionDate='1972-02-01'),\n",
              " Row(Aircraft='F-4', MissionDate='1972-08-23'),\n",
              " Row(Aircraft='F-4', MissionDate='1972-09-10'),\n",
              " Row(Aircraft='A-7', MissionDate='1972-10-11'),\n",
              " Row(Aircraft='AC-130', MissionDate='1972-11-20'),\n",
              " Row(Aircraft='F-4', MissionDate='1971-04-29'),\n",
              " Row(Aircraft='CH-53', MissionDate='1971-11-28'),\n",
              " Row(Aircraft='A-7', MissionDate='1972-12-16'),\n",
              " Row(Aircraft='F-4', MissionDate='1973-04-16'),\n",
              " Row(Aircraft='AC-130', MissionDate='1973-07-17'),\n",
              " Row(Aircraft='RF-4', MissionDate='1974-09-26'),\n",
              " Row(Aircraft='F-105', MissionDate='1970-05-07'),\n",
              " Row(Aircraft='F-4', MissionDate='1970-12-29'),\n",
              " Row(Aircraft='EB-66', MissionDate='1971-09-26'),\n",
              " Row(Aircraft='EC-47', MissionDate='1971-11-11'),\n",
              " Row(Aircraft='F-4', MissionDate='1971-11-26'),\n",
              " Row(Aircraft='B-52', MissionDate='1972-09-20'),\n",
              " Row(Aircraft='B-52', MissionDate='1973-02-16'),\n",
              " Row(Aircraft='EC-121', MissionDate='1970-01-03'),\n",
              " Row(Aircraft='RF-4', MissionDate='1970-03-26'),\n",
              " Row(Aircraft='F-4', MissionDate='1971-10-30'),\n",
              " Row(Aircraft='RF-4', MissionDate='1971-11-02'),\n",
              " Row(Aircraft='A-7', MissionDate='1971-12-07'),\n",
              " Row(Aircraft='F-4', MissionDate='1972-01-26'),\n",
              " Row(Aircraft='F-4', MissionDate='1972-11-01'),\n",
              " Row(Aircraft='RF-4', MissionDate='1973-01-13'),\n",
              " Row(Aircraft='A-7', MissionDate='1973-02-26'),\n",
              " Row(Aircraft='A-7', MissionDate='1973-03-19'),\n",
              " Row(Aircraft='F-105', MissionDate='1971-04-16'),\n",
              " Row(Aircraft='AC-130', MissionDate='1973-03-13'),\n",
              " Row(Aircraft='AC-130', MissionDate='1971-12-29'),\n",
              " Row(Aircraft='F-4', MissionDate='1972-03-25'),\n",
              " Row(Aircraft='F-4', MissionDate='1972-10-19'),\n",
              " Row(Aircraft='AC-130', MissionDate='1970-02-09'),\n",
              " Row(Aircraft='O-2', MissionDate='1970-05-05'),\n",
              " Row(Aircraft='A-7', MissionDate='1971-09-23'),\n",
              " Row(Aircraft='A-1', MissionDate='1972-04-16'),\n",
              " Row(Aircraft='F-4', MissionDate='1972-07-22'),\n",
              " Row(Aircraft='F-4', MissionDate='1972-08-21'),\n",
              " Row(Aircraft='A-7', MissionDate='1973-02-20'),\n",
              " Row(Aircraft='F-111', MissionDate='1973-02-22'),\n",
              " Row(Aircraft='AC-130', MissionDate='1973-03-20'),\n",
              " Row(Aircraft='RB-57', MissionDate='1971-05-16'),\n",
              " Row(Aircraft='F-4', MissionDate='1972-03-18'),\n",
              " Row(Aircraft='A-1', MissionDate='1970-06-10'),\n",
              " Row(Aircraft='EC-47', MissionDate='1972-07-17'),\n",
              " Row(Aircraft='EC-121', MissionDate='1973-09-17'),\n",
              " Row(Aircraft='AC-130', MissionDate='1972-01-23'),\n",
              " Row(Aircraft='AC-119', MissionDate='1972-04-13'),\n",
              " Row(Aircraft='F-4', MissionDate='1973-04-01'),\n",
              " Row(Aircraft='KC-135', MissionDate='1973-05-24'),\n",
              " Row(Aircraft='EC-130', MissionDate='1973-02-16'),\n",
              " Row(Aircraft='C-130', MissionDate='1974-03-06'),\n",
              " Row(Aircraft='F-100', MissionDate='1970-03-26'),\n",
              " Row(Aircraft='A-4', MissionDate='1970-07-28'),\n",
              " Row(Aircraft='C-7', MissionDate='1970-09-17'),\n",
              " Row(Aircraft='AC-119', MissionDate='1970-05-27'),\n",
              " Row(Aircraft='F-4', MissionDate='1971-01-18'),\n",
              " Row(Aircraft='UH-1', MissionDate='1971-11-27'),\n",
              " Row(Aircraft='A-4', MissionDate='1972-08-12'),\n",
              " Row(Aircraft='F-4', MissionDate='1972-08-22'),\n",
              " Row(Aircraft='RF-4', MissionDate='1970-02-18'),\n",
              " Row(Aircraft='F-4', MissionDate='1970-11-11'),\n",
              " Row(Aircraft='EC-47', MissionDate='1970-11-24'),\n",
              " Row(Aircraft='F-100', MissionDate='1970-12-23'),\n",
              " Row(Aircraft='AC-130', MissionDate='1971-02-07'),\n",
              " Row(Aircraft='A-6', MissionDate='1971-03-09'),\n",
              " Row(Aircraft='F-4', MissionDate='1971-05-31'),\n",
              " Row(Aircraft='F-4', MissionDate='1971-09-21'),\n",
              " Row(Aircraft='F-4', MissionDate='1971-10-04'),\n",
              " Row(Aircraft='F-4', MissionDate='1971-12-07'),\n",
              " Row(Aircraft='F-4', MissionDate='1972-11-14'),\n",
              " Row(Aircraft='A-7', MissionDate='1973-01-21'),\n",
              " Row(Aircraft='C-47', MissionDate='1973-09-16'),\n",
              " Row(Aircraft='F-105', MissionDate='1970-01-27'),\n",
              " Row(Aircraft='A-37', MissionDate='1970-07-01'),\n",
              " Row(Aircraft='EC-47', MissionDate='1972-05-31'),\n",
              " Row(Aircraft='F-4', MissionDate='1970-02-22'),\n",
              " Row(Aircraft='F-105', MissionDate='1970-06-06'),\n",
              " Row(Aircraft='C-7', MissionDate='1972-02-09'),\n",
              " Row(Aircraft='A-7', MissionDate='1972-08-22'),\n",
              " Row(Aircraft='EC-121', MissionDate='1970-01-25'),\n",
              " Row(Aircraft='EC-47', MissionDate='1970-01-29'),\n",
              " Row(Aircraft='EC-130', MissionDate='1971-08-17'),\n",
              " Row(Aircraft='A-7', MissionDate='1971-12-03'),\n",
              " Row(Aircraft='A-7', MissionDate='1972-07-10'),\n",
              " Row(Aircraft='F-4', MissionDate='1972-11-14'),\n",
              " Row(Aircraft='F-105', MissionDate='1971-12-08'),\n",
              " Row(Aircraft='F-4', MissionDate='1972-03-20'),\n",
              " Row(Aircraft='B-52', MissionDate='1972-10-11'),\n",
              " Row(Aircraft='O-2', MissionDate='1970-06-08'),\n",
              " Row(Aircraft='A-1', MissionDate='1970-11-03'),\n",
              " Row(Aircraft='F-4', MissionDate='1971-07-03'),\n",
              " Row(Aircraft='B-52', MissionDate='1971-07-21'),\n",
              " Row(Aircraft='F-4', MissionDate='1972-05-23'),\n",
              " Row(Aircraft='F-4', MissionDate='1972-06-07'),\n",
              " Row(Aircraft='AC-130', MissionDate='1971-02-02'),\n",
              " Row(Aircraft='KC-130', MissionDate='1972-09-18'),\n",
              " Row(Aircraft='AC-119', MissionDate='1971-01-31'),\n",
              " Row(Aircraft='F-4', MissionDate='1971-02-11'),\n",
              " Row(Aircraft='AC-119', MissionDate='1971-11-27'),\n",
              " Row(Aircraft='A-7', MissionDate='1972-12-16'),\n",
              " Row(Aircraft='O-1', MissionDate='1970-11-23'),\n",
              " Row(Aircraft='CH-3', MissionDate='1970-12-10'),\n",
              " Row(Aircraft='A-1', MissionDate='1971-05-31'),\n",
              " Row(Aircraft='F-4', MissionDate='1971-08-11'),\n",
              " Row(Aircraft='A-6', MissionDate='1972-06-05'),\n",
              " Row(Aircraft='A-4', MissionDate='1972-06-11'),\n",
              " Row(Aircraft='A-4', MissionDate='1970-05-27'),\n",
              " Row(Aircraft='O-2', MissionDate='1970-08-26'),\n",
              " Row(Aircraft='F-4', MissionDate='1971-02-28'),\n",
              " Row(Aircraft='F-4', MissionDate='1972-03-04'),\n",
              " Row(Aircraft='EC-47', MissionDate='1972-03-29'),\n",
              " Row(Aircraft='A-7', MissionDate='1972-08-30'),\n",
              " Row(Aircraft='A-6', MissionDate='1973-03-27'),\n",
              " Row(Aircraft='B-52', MissionDate='1972-03-26'),\n",
              " Row(Aircraft='A-4', MissionDate='1972-04-19'),\n",
              " Row(Aircraft='F-4', MissionDate='1972-06-07'),\n",
              " Row(Aircraft='B-52', MissionDate='1973-01-07'),\n",
              " Row(Aircraft='F-111', MissionDate='1973-08-04'),\n",
              " Row(Aircraft='F-4', MissionDate='1970-01-24'),\n",
              " Row(Aircraft='F-100', MissionDate='1971-01-12'),\n",
              " Row(Aircraft='RF-4', MissionDate='1971-04-20'),\n",
              " Row(Aircraft='F-4', MissionDate='1971-05-17'),\n",
              " Row(Aircraft='C-130', MissionDate='1974-05-19'),\n",
              " Row(Aircraft='OV-10', MissionDate='1971-04-13'),\n",
              " Row(Aircraft='F-4', MissionDate='1971-07-10'),\n",
              " Row(Aircraft='F-4', MissionDate='1972-05-23'),\n",
              " Row(Aircraft='QU-22', MissionDate='1972-07-26'),\n",
              " Row(Aircraft='F-4', MissionDate='1972-11-09'),\n",
              " Row(Aircraft='F-111', MissionDate='1972-11-18'),\n",
              " Row(Aircraft='A-7', MissionDate='1972-11-30'),\n",
              " Row(Aircraft='F-105', MissionDate='1970-07-14'),\n",
              " Row(Aircraft='F-4', MissionDate='1971-06-19'),\n",
              " Row(Aircraft='F-4', MissionDate='1972-10-01'),\n",
              " Row(Aircraft='C-130', MissionDate='1972-11-29'),\n",
              " Row(Aircraft='EC-47', MissionDate='1973-04-17'),\n",
              " Row(Aircraft='AC-119', MissionDate='1971-02-18'),\n",
              " Row(Aircraft='F-8', MissionDate='1971-04-21'),\n",
              " Row(Aircraft='A-6', MissionDate='1972-04-26'),\n",
              " Row(Aircraft='A-4', MissionDate='1972-06-04'),\n",
              " Row(Aircraft='EC-47', MissionDate='1972-06-07'),\n",
              " Row(Aircraft='B-52', MissionDate='1972-10-18'),\n",
              " Row(Aircraft='A-7', MissionDate='1972-11-27'),\n",
              " Row(Aircraft='AC-130', MissionDate='1973-04-17'),\n",
              " Row(Aircraft='F-4', MissionDate='1972-06-11'),\n",
              " Row(Aircraft='F-4', MissionDate='1972-07-20'),\n",
              " Row(Aircraft='A-4', MissionDate='1972-08-03'),\n",
              " Row(Aircraft='F-4', MissionDate='1972-08-09'),\n",
              " Row(Aircraft='RF-4', MissionDate='1972-10-10'),\n",
              " Row(Aircraft='F-4', MissionDate='1970-06-14'),\n",
              " Row(Aircraft='O-2', MissionDate='1970-07-21'),\n",
              " Row(Aircraft='F-100', MissionDate='1970-10-29'),\n",
              " Row(Aircraft='A-1', MissionDate='1970-11-17'),\n",
              " Row(Aircraft='F-111', MissionDate='1973-02-16'),\n",
              " Row(Aircraft='KC-135', MissionDate='1971-09-21'),\n",
              " Row(Aircraft='F-4', MissionDate='1971-11-01'),\n",
              " Row(Aircraft='C-47', MissionDate='1972-05-09'),\n",
              " Row(Aircraft='A-7', MissionDate='1972-11-22'),\n",
              " Row(Aircraft='F-4', MissionDate='1971-08-24'),\n",
              " Row(Aircraft='F-4', MissionDate='1971-11-12'),\n",
              " Row(Aircraft='EC-47', MissionDate='1972-03-22'),\n",
              " Row(Aircraft='F-4', MissionDate='1972-07-06'),\n",
              " Row(Aircraft='B-52', MissionDate='1973-02-05'),\n",
              " Row(Aircraft='A-7', MissionDate='1971-12-01'),\n",
              " Row(Aircraft='AC-130', MissionDate='1972-02-22'),\n",
              " Row(Aircraft='F-4', MissionDate='1972-10-25'),\n",
              " Row(Aircraft='F-111', MissionDate='1973-05-16'),\n",
              " Row(Aircraft='B-52', MissionDate='1971-05-03'),\n",
              " Row(Aircraft='F-4', MissionDate='1972-02-12'),\n",
              " Row(Aircraft='F-4', MissionDate='1972-06-25'),\n",
              " Row(Aircraft='F-4', MissionDate='1973-01-05'),\n",
              " Row(Aircraft='F-4', MissionDate='1970-03-05'),\n",
              " Row(Aircraft='F-4', MissionDate='1972-07-12'),\n",
              " Row(Aircraft='F-111', MissionDate='1973-05-15'),\n",
              " Row(Aircraft='F-4', MissionDate='1973-07-01'),\n",
              " Row(Aircraft='AC-130', MissionDate='1970-01-16'),\n",
              " Row(Aircraft='F-100', MissionDate='1970-01-27'),\n",
              " Row(Aircraft='A-6', MissionDate='1970-03-08'),\n",
              " Row(Aircraft='RF-4', MissionDate='1970-04-01'),\n",
              " Row(Aircraft='A-7', MissionDate='1972-08-22'),\n",
              " Row(Aircraft='EC-130', MissionDate='1970-07-13'),\n",
              " Row(Aircraft='B-52', MissionDate='1971-07-17'),\n",
              " Row(Aircraft='F-4', MissionDate='1971-08-23'),\n",
              " Row(Aircraft='A-6', MissionDate='1972-04-24'),\n",
              " Row(Aircraft='U-21', MissionDate='1974-09-17'),\n",
              " Row(Aircraft='F-105', MissionDate='1970-07-19'),\n",
              " Row(Aircraft='A-37', MissionDate='1971-07-04'),\n",
              " Row(Aircraft='F-4', MissionDate='1972-12-03'),\n",
              " Row(Aircraft='AC-130', MissionDate='1973-05-16'),\n",
              " Row(Aircraft='F-4', MissionDate='1973-06-19'),\n",
              " Row(Aircraft='F-100', MissionDate='1970-01-11'),\n",
              " Row(Aircraft='F-105', MissionDate='1970-07-26'),\n",
              " Row(Aircraft='F-4', MissionDate='1971-03-11'),\n",
              " Row(Aircraft='F-4', MissionDate='1971-06-12'),\n",
              " Row(Aircraft='F-111', MissionDate='1972-11-02'),\n",
              " Row(Aircraft='C-123', MissionDate='1971-09-17'),\n",
              " Row(Aircraft='F-4', MissionDate='1972-06-22'),\n",
              " Row(Aircraft='F-4', MissionDate='1972-07-31'),\n",
              " Row(Aircraft='F-4', MissionDate='1972-11-01'),\n",
              " Row(Aircraft='F-4', MissionDate='1973-04-17'),\n",
              " Row(Aircraft='RF-4', MissionDate='1970-01-17'),\n",
              " Row(Aircraft='F-4', MissionDate='1970-02-21'),\n",
              " Row(Aircraft='A-7', MissionDate='1972-12-21'),\n",
              " Row(Aircraft='C-7', MissionDate='1971-01-25'),\n",
              " Row(Aircraft='AC-119', MissionDate='1971-01-29'),\n",
              " Row(Aircraft='F-4', MissionDate='1972-01-30'),\n",
              " Row(Aircraft='F-4', MissionDate='1972-05-20'),\n",
              " Row(Aircraft='F-4', MissionDate='1970-04-16'),\n",
              " Row(Aircraft='RF-4', MissionDate='1970-08-25'),\n",
              " Row(Aircraft='EC-47', MissionDate='1971-05-12'),\n",
              " Row(Aircraft='A-37', MissionDate='1971-10-18'),\n",
              " Row(Aircraft='F-4', MissionDate='1972-01-05'),\n",
              " Row(Aircraft='F-100', MissionDate='1970-03-17'),\n",
              " Row(Aircraft='WC-130', MissionDate='1970-09-15'),\n",
              " Row(Aircraft='A-37', MissionDate='1970-11-12'),\n",
              " Row(Aircraft='AC-130', MissionDate='1971-06-25'),\n",
              " Row(Aircraft='C-130', MissionDate='1973-04-24'),\n",
              " Row(Aircraft='EC-47', MissionDate='1970-09-02'),\n",
              " Row(Aircraft='EC-47', MissionDate='1970-11-19'),\n",
              " Row(Aircraft='F-100', MissionDate='1970-12-25'),\n",
              " Row(Aircraft='F-100', MissionDate='1971-02-19'),\n",
              " Row(Aircraft='F-100', MissionDate='1971-03-10'),\n",
              " Row(Aircraft='F-4', MissionDate='1972-07-01'),\n",
              " Row(Aircraft='F-4', MissionDate='1973-05-04'),\n",
              " Row(Aircraft='F-4', MissionDate='1970-11-17'),\n",
              " Row(Aircraft='KC-135', MissionDate='1972-01-12'),\n",
              " Row(Aircraft='A-6', MissionDate='1972-11-03'),\n",
              " Row(Aircraft='F-100', MissionDate='1970-12-28'),\n",
              " Row(Aircraft='A-37', MissionDate='1972-10-20'),\n",
              " Row(Aircraft='A-6', MissionDate='1972-12-04'),\n",
              " Row(Aircraft='A-7', MissionDate='1973-03-21'),\n",
              " Row(Aircraft='AC-119', MissionDate='1972-04-20'),\n",
              " Row(Aircraft='OV-10', MissionDate='1972-06-13'),\n",
              " Row(Aircraft='F-4', MissionDate='1972-03-18'),\n",
              " Row(Aircraft='A-7', MissionDate='1973-01-30'),\n",
              " Row(Aircraft='AC-130', MissionDate='1973-03-07'),\n",
              " Row(Aircraft='A-7', MissionDate='1974-05-04'),\n",
              " Row(Aircraft='F-4', MissionDate='1970-02-27'),\n",
              " Row(Aircraft='OV-10', MissionDate='1970-03-06'),\n",
              " Row(Aircraft='A-7', MissionDate='1970-05-08'),\n",
              " Row(Aircraft='F-100', MissionDate='1970-07-23'),\n",
              " Row(Aircraft='RF-4', MissionDate='1973-08-04'),\n",
              " Row(Aircraft='RF-4', MissionDate='1970-12-17'),\n",
              " Row(Aircraft='EC-47', MissionDate='1971-03-18'),\n",
              " Row(Aircraft='A-6', MissionDate='1972-03-13'),\n",
              " Row(Aircraft='AC-119', MissionDate='1972-10-02'),\n",
              " Row(Aircraft='B-52', MissionDate='1972-12-20'),\n",
              " Row(Aircraft='EC-47', MissionDate='1970-08-25'),\n",
              " Row(Aircraft='F-4', MissionDate='1972-03-13'),\n",
              " Row(Aircraft='F-4', MissionDate='1972-03-14'),\n",
              " Row(Aircraft='F-4', MissionDate='1972-06-14'),\n",
              " Row(Aircraft='F-4', MissionDate='1970-10-03'),\n",
              " Row(Aircraft='EC-47', MissionDate='1972-05-21'),\n",
              " Row(Aircraft='A-7', MissionDate='1973-03-24'),\n",
              " Row(Aircraft='A-7', MissionDate='1972-05-07'),\n",
              " Row(Aircraft='A-1', MissionDate='1970-09-23'),\n",
              " Row(Aircraft='EC-47', MissionDate='1971-03-15'),\n",
              " Row(Aircraft='A-6', MissionDate='1971-05-03'),\n",
              " Row(Aircraft='F-4', MissionDate='1972-05-28'),\n",
              " Row(Aircraft='F-4', MissionDate='1972-06-25'),\n",
              " Row(Aircraft='AC-119', MissionDate='1973-01-08'),\n",
              " Row(Aircraft='E-2', MissionDate='1971-12-24'),\n",
              " Row(Aircraft='F-4', MissionDate='1972-05-03'),\n",
              " Row(Aircraft='O-1', MissionDate='1970-10-08'),\n",
              " Row(Aircraft='OV-10', MissionDate='1970-11-23'),\n",
              " Row(Aircraft='A-7', MissionDate='1971-08-28'),\n",
              " Row(Aircraft='AC-119', MissionDate='1972-06-28'),\n",
              " Row(Aircraft='F-4', MissionDate='1970-12-20'),\n",
              " Row(Aircraft='RF-4', MissionDate='1971-03-02'),\n",
              " Row(Aircraft='EC-47', MissionDate='1972-02-28'),\n",
              " Row(Aircraft='F-4', MissionDate='1972-03-18'),\n",
              " Row(Aircraft='F-111', MissionDate='1972-12-13'),\n",
              " Row(Aircraft='F-4', MissionDate='1971-04-02'),\n",
              " Row(Aircraft='EC-47', MissionDate='1971-05-30'),\n",
              " Row(Aircraft='EB-66', MissionDate='1971-04-14'),\n",
              " Row(Aircraft='B-57', MissionDate='1971-02-19'),\n",
              " Row(Aircraft='HH-43', MissionDate='1971-05-23'),\n",
              " Row(Aircraft='AC-119', MissionDate='1972-01-15'),\n",
              " Row(Aircraft='A-7', MissionDate='1972-06-11'),\n",
              " Row(Aircraft='F-4', MissionDate='1973-01-16'),\n",
              " Row(Aircraft='B-52', MissionDate='1973-02-18'),\n",
              " Row(Aircraft='CH-53', MissionDate='1974-05-15'),\n",
              " Row(Aircraft='U-21', MissionDate='1974-08-14'),\n",
              " Row(Aircraft='F-4', MissionDate='1971-12-07'),\n",
              " Row(Aircraft='B-52', MissionDate='1972-04-03'),\n",
              " Row(Aircraft='F-4', MissionDate='1973-01-14'),\n",
              " Row(Aircraft='A-1', MissionDate='1970-08-03'),\n",
              " Row(Aircraft='F-4', MissionDate='1971-01-12'),\n",
              " Row(Aircraft='F-100', MissionDate='1970-09-28'),\n",
              " Row(Aircraft='A-7', MissionDate='1971-07-19'),\n",
              " Row(Aircraft='F-4', MissionDate='1971-08-05'),\n",
              " Row(Aircraft='F-4', MissionDate='1971-12-28'),\n",
              " Row(Aircraft='F-4', MissionDate='1972-03-10'),\n",
              " Row(Aircraft='A-37', MissionDate='1972-07-28'),\n",
              " Row(Aircraft='A-7', MissionDate='1972-05-03'),\n",
              " Row(Aircraft='A-7', MissionDate='1971-06-18'),\n",
              " Row(Aircraft='F-4', MissionDate='1972-05-05'),\n",
              " Row(Aircraft='F-4', MissionDate='1972-09-04'),\n",
              " Row(Aircraft='F-4', MissionDate='1972-10-24'),\n",
              " Row(Aircraft='F-4', MissionDate='1970-01-14'),\n",
              " Row(Aircraft='F-4', MissionDate='1971-01-05'),\n",
              " Row(Aircraft='O-2', MissionDate='1971-01-29'),\n",
              " Row(Aircraft='AC-119', MissionDate='1972-01-23'),\n",
              " Row(Aircraft='RA-5', MissionDate='1972-08-06'),\n",
              " Row(Aircraft='A-37', MissionDate='1970-04-22'),\n",
              " Row(Aircraft='A-1', MissionDate='1970-09-01'),\n",
              " Row(Aircraft='F-4', MissionDate='1973-02-02'),\n",
              " Row(Aircraft='C-130', MissionDate='1974-05-20'),\n",
              " Row(Aircraft='RF-4', MissionDate='1970-10-29'),\n",
              " Row(Aircraft='F-4', MissionDate='1972-05-25'),\n",
              " Row(Aircraft='F-4', MissionDate='1972-06-06'),\n",
              " Row(Aircraft='B-52', MissionDate='1972-07-29'),\n",
              " Row(Aircraft='AC-119', MissionDate='1970-11-08'),\n",
              " Row(Aircraft='AC-119', MissionDate='1971-12-03'),\n",
              " Row(Aircraft='EC-47', MissionDate='1971-12-18'),\n",
              " Row(Aircraft='AC-119', MissionDate='1972-03-19'),\n",
              " Row(Aircraft='F-105', MissionDate='1972-11-10'),\n",
              " Row(Aircraft='F-4', MissionDate='1971-12-02'),\n",
              " Row(Aircraft='RF-4', MissionDate='1974-08-25'),\n",
              " Row(Aircraft='C-123', MissionDate='1970-02-17'),\n",
              " Row(Aircraft='A-7', MissionDate='1970-06-24'),\n",
              " Row(Aircraft='F-100', MissionDate='1971-05-26'),\n",
              " Row(Aircraft='F-4', MissionDate='1971-01-05'),\n",
              " Row(Aircraft='B-52', MissionDate='1972-05-09'),\n",
              " Row(Aircraft='F-4', MissionDate='1970-03-23'),\n",
              " Row(Aircraft='A-4', MissionDate='1972-06-19'),\n",
              " Row(Aircraft='A-4', MissionDate='1970-03-25'),\n",
              " Row(Aircraft='F-4', MissionDate='1972-06-15'),\n",
              " Row(Aircraft='A-7', MissionDate='1972-11-17'),\n",
              " Row(Aircraft='F-4', MissionDate='1972-07-07'),\n",
              " Row(Aircraft='A-7', MissionDate='1972-07-29'),\n",
              " Row(Aircraft='A-7', MissionDate='1972-08-11'),\n",
              " Row(Aircraft='CH-53', MissionDate='1972-10-19'),\n",
              " Row(Aircraft='F-4', MissionDate='1970-04-21'),\n",
              " Row(Aircraft='A-37', MissionDate='1970-08-23'),\n",
              " Row(Aircraft='F-4', MissionDate='1972-10-01'),\n",
              " Row(Aircraft='F-4', MissionDate='1972-11-27'),\n",
              " Row(Aircraft='C-130', MissionDate='1973-07-11'),\n",
              " Row(Aircraft='RF-4', MissionDate='1974-06-25'),\n",
              " Row(Aircraft='F-4', MissionDate='1971-03-13'),\n",
              " Row(Aircraft='F-4', MissionDate='1971-05-24'),\n",
              " Row(Aircraft='F-4', MissionDate='1971-11-26'),\n",
              " Row(Aircraft='F-4', MissionDate='1972-03-17'),\n",
              " Row(Aircraft='F-105', MissionDate='1970-01-16'),\n",
              " Row(Aircraft='C-123', MissionDate='1970-01-19'),\n",
              " Row(Aircraft='F-100', MissionDate='1970-07-30'),\n",
              " Row(Aircraft='O-2', MissionDate='1970-09-19'),\n",
              " Row(Aircraft='A-4', MissionDate='1970-10-31'),\n",
              " Row(Aircraft='F-4', MissionDate='1972-06-17'),\n",
              " Row(Aircraft='F-4', MissionDate='1970-02-01'),\n",
              " Row(Aircraft='A-6', MissionDate='1970-09-07'),\n",
              " Row(Aircraft='F-4', MissionDate='1971-02-07'),\n",
              " Row(Aircraft='HH-53', MissionDate='1971-10-23'),\n",
              " Row(Aircraft='B-52', MissionDate='1972-05-21'),\n",
              " Row(Aircraft='EC-47', MissionDate='1972-07-09'),\n",
              " Row(Aircraft='F-4', MissionDate='1970-04-03'),\n",
              " Row(Aircraft='A-6', MissionDate='1970-04-12'),\n",
              " Row(Aircraft='F-4', MissionDate='1971-04-16'),\n",
              " Row(Aircraft='O-2', MissionDate='1971-07-14'),\n",
              " Row(Aircraft='F-4', MissionDate='1972-10-03'),\n",
              " Row(Aircraft='A-7', MissionDate='1972-10-14'),\n",
              " Row(Aircraft='F-100', MissionDate='1970-01-02'),\n",
              " Row(Aircraft='F-4', MissionDate='1971-04-18'),\n",
              " Row(Aircraft='A-7', MissionDate='1971-07-25'),\n",
              " Row(Aircraft='F-4', MissionDate='1972-03-31'),\n",
              " Row(Aircraft='B-52', MissionDate='1972-04-05'),\n",
              " Row(Aircraft='A-4', MissionDate='1972-10-10'),\n",
              " Row(Aircraft='B-52', MissionDate='1973-04-13'),\n",
              " Row(Aircraft='F-4', MissionDate='1971-03-03'),\n",
              " Row(Aircraft='AC-119', MissionDate='1971-04-09'),\n",
              " Row(Aircraft='A-6', MissionDate='1971-05-20'),\n",
              " Row(Aircraft='F-4', MissionDate='1973-07-29'),\n",
              " Row(Aircraft='F-4', MissionDate='1973-08-22'),\n",
              " Row(Aircraft='F-100', MissionDate='1970-02-22'),\n",
              " Row(Aircraft='F-4', MissionDate='1970-10-07'),\n",
              " Row(Aircraft='A-7', MissionDate='1972-03-09'),\n",
              " Row(Aircraft='A-6', MissionDate='1971-01-03'),\n",
              " Row(Aircraft='F-4', MissionDate='1971-03-22'),\n",
              " Row(Aircraft='F-4', MissionDate='1971-06-11'),\n",
              " Row(Aircraft='B-52', MissionDate='1972-03-09'),\n",
              " Row(Aircraft='F-4', MissionDate='1972-07-27'),\n",
              " Row(Aircraft='F-4', MissionDate='1972-08-01'),\n",
              " Row(Aircraft='F-4', MissionDate='1973-05-10'),\n",
              " Row(Aircraft='A-7', MissionDate='1972-05-16'),\n",
              " Row(Aircraft='A-7', MissionDate='1972-12-04'),\n",
              " Row(Aircraft='F-4', MissionDate='1970-04-21'),\n",
              " Row(Aircraft='A-37', MissionDate='1972-01-09'),\n",
              " Row(Aircraft='AC-119', MissionDate='1972-02-25'),\n",
              " Row(Aircraft='F-4', MissionDate='1972-05-02'),\n",
              " Row(Aircraft='A-7', MissionDate='1972-06-07'),\n",
              " ...]"
            ]
          },
          "metadata": {},
          "execution_count": 17
        }
      ]
    },
    {
      "cell_type": "code",
      "source": [
        "Aircraft_Glossary.count()"
      ],
      "metadata": {
        "colab": {
          "base_uri": "https://localhost:8080/"
        },
        "id": "BeBE0Q5w3cyT",
        "outputId": "0ba79b62-abda-460e-c4bd-e37a9fda9d67"
      },
      "execution_count": null,
      "outputs": [
        {
          "output_type": "execute_result",
          "data": {
            "text/plain": [
              "104"
            ]
          },
          "metadata": {},
          "execution_count": 18
        }
      ]
    },
    {
      "cell_type": "code",
      "source": [
        "Bombing_Operations.count()"
      ],
      "metadata": {
        "colab": {
          "base_uri": "https://localhost:8080/"
        },
        "id": "zhGc0DV23jXy",
        "outputId": "25da500f-9d2c-4435-bf08-f3ea3682851e"
      },
      "execution_count": null,
      "outputs": [
        {
          "output_type": "execute_result",
          "data": {
            "text/plain": [
              "4400775"
            ]
          },
          "metadata": {},
          "execution_count": 19
        }
      ]
    },
    {
      "cell_type": "code",
      "source": [
        "Bombing_Operations.where(\"TargetCountry = 'LAOS' AND TimeOnTarget > 1000\").select(\"Aircraft\",\"MissionDate\").show()"
      ],
      "metadata": {
        "colab": {
          "base_uri": "https://localhost:8080/"
        },
        "id": "uhN6RnCS3kTC",
        "outputId": "5ff43865-1c21-47c5-a387-8e973b36b5b3"
      },
      "execution_count": null,
      "outputs": [
        {
          "output_type": "stream",
          "name": "stdout",
          "text": [
            "+--------+-----------+\n",
            "|Aircraft|MissionDate|\n",
            "+--------+-----------+\n",
            "|     A-1| 1970-02-02|\n",
            "|     A-4| 1972-03-08|\n",
            "|     A-6| 1971-05-12|\n",
            "|   EB-66| 1971-12-03|\n",
            "|   F-105| 1970-10-02|\n",
            "|     A-7| 1973-02-24|\n",
            "|    B-52| 1972-02-21|\n",
            "|   C-130| 1970-01-16|\n",
            "|    B-57| 1971-06-24|\n",
            "|  AC-119| 1971-11-05|\n",
            "|  AC-130| 1972-03-01|\n",
            "|  AC-130| 1971-04-21|\n",
            "|     F-4| 1970-11-16|\n",
            "|   AC-47| 1973-01-18|\n",
            "|  AC-130| 1971-04-26|\n",
            "|   AC-47| 1972-01-13|\n",
            "|     F-4| 1970-02-03|\n",
            "|  AC-130| 1970-01-18|\n",
            "|   QU-22| 1971-06-29|\n",
            "|     F-4| 1970-04-02|\n",
            "+--------+-----------+\n",
            "only showing top 20 rows\n",
            "\n"
          ]
        }
      ]
    },
    {
      "cell_type": "code",
      "source": [
        "missions_count = Bombing_Operations.groupBy(\"ContryFlyingMission\").agg(count(\"*\").alias(\"NumOfMissions\")).sort(asc(\"NumOfMissions\"))"
      ],
      "metadata": {
        "id": "G8DniaHZ3nDq"
      },
      "execution_count": null,
      "outputs": []
    },
    {
      "cell_type": "code",
      "source": [
        "missions_count.show()"
      ],
      "metadata": {
        "colab": {
          "base_uri": "https://localhost:8080/"
        },
        "id": "_Gug4-En3zu4",
        "outputId": "040828e3-4d11-41d2-cf1d-95fad84f81ee"
      },
      "execution_count": null,
      "outputs": [
        {
          "output_type": "stream",
          "name": "stdout",
          "text": [
            "+--------------------+-------------+\n",
            "| ContryFlyingMission|NumOfMissions|\n",
            "+--------------------+-------------+\n",
            "|           AUSTRALIA|        12519|\n",
            "|       KOREA (SOUTH)|        24469|\n",
            "|                LAOS|        32777|\n",
            "|     VIETNAM (SOUTH)|       622013|\n",
            "|UNITED STATES OF ...|      3708997|\n",
            "+--------------------+-------------+\n",
            "\n"
          ]
        }
      ]
    },
    {
      "cell_type": "code",
      "source": [
        "Bombing_Operations.createOrReplaceTempView(\"Bombing_Operations\")\n",
        "\n",
        "query = \"\"\" SELECT ContryFlyingMission, count(*) AS NumOfMissions FROM Bombing_Operations GROUP BY ContryFlyingMission ORDER BY NumOfMissions desc \"\"\"\n",
        "\n",
        "missions_count1 = spark.sql(query)"
      ],
      "metadata": {
        "id": "jdchxDkW3tKB"
      },
      "execution_count": null,
      "outputs": []
    },
    {
      "cell_type": "code",
      "source": [
        "missions_count1.show()"
      ],
      "metadata": {
        "colab": {
          "base_uri": "https://localhost:8080/"
        },
        "id": "dgcHnEeF34kK",
        "outputId": "be880a77-c468-4057-dcca-47f778ff26a3"
      },
      "execution_count": null,
      "outputs": [
        {
          "output_type": "stream",
          "name": "stdout",
          "text": [
            "+--------------------+-------------+\n",
            "| ContryFlyingMission|NumOfMissions|\n",
            "+--------------------+-------------+\n",
            "|UNITED STATES OF ...|      3708997|\n",
            "|     VIETNAM (SOUTH)|       622013|\n",
            "|                LAOS|        32777|\n",
            "|       KOREA (SOUTH)|        24469|\n",
            "|           AUSTRALIA|        12519|\n",
            "+--------------------+-------------+\n",
            "\n"
          ]
        }
      ]
    },
    {
      "cell_type": "code",
      "source": [
        "missions_count1_pd = missions_count1.toPandas()"
      ],
      "metadata": {
        "id": "_ey2ks8r36Ih"
      },
      "execution_count": null,
      "outputs": []
    },
    {
      "cell_type": "code",
      "source": [
        "plt1 = missions_count1_pd.plot (kind = \"bar\", x = \"ContryFlyingMission\", y = \"NumOfMissions\")"
      ],
      "metadata": {
        "colab": {
          "base_uri": "https://localhost:8080/",
          "height": 422
        },
        "id": "ISQZCXuu3_TJ",
        "outputId": "ba941cff-cffb-4e3b-fd94-510ded09e60e"
      },
      "execution_count": null,
      "outputs": [
        {
          "output_type": "display_data",
          "data": {
            "text/plain": [
              "<Figure size 432x288 with 1 Axes>"
            ],
            "image/png": "[encoded data removed]"
          },
          "metadata": {
            "needs_background": "light"
          }
        }
      ]
    },
    {
      "cell_type": "code",
      "source": [
        "missions_count_Q1 = Bombing_Operations.groupBy(\"ContryFlyingMission\",\"MissionDate\").agg(count(\"*\").alias(\"NumOfMissions\")).sort(asc(\"MissionDate\"))"
      ],
      "metadata": {
        "id": "hCSdXujY4CgS"
      },
      "execution_count": null,
      "outputs": []
    },
    {
      "cell_type": "code",
      "source": [
        "missions_count_Q1.show()"
      ],
      "metadata": {
        "colab": {
          "base_uri": "https://localhost:8080/"
        },
        "id": "jcWvkkCU6L3R",
        "outputId": "c6a996bc-12f8-4cb5-d957-a21f973d9dfd"
      },
      "execution_count": null,
      "outputs": [
        {
          "output_type": "stream",
          "name": "stdout",
          "text": [
            "+--------------------+-----------+-------------+\n",
            "| ContryFlyingMission|MissionDate|NumOfMissions|\n",
            "+--------------------+-----------+-------------+\n",
            "|UNITED STATES OF ...| 1965-10-01|          447|\n",
            "|UNITED STATES OF ...| 1965-10-02|          652|\n",
            "|UNITED STATES OF ...| 1965-10-03|          608|\n",
            "|UNITED STATES OF ...| 1965-10-04|          532|\n",
            "|     VIETNAM (SOUTH)| 1965-10-05|           72|\n",
            "|UNITED STATES OF ...| 1965-10-05|          697|\n",
            "|UNITED STATES OF ...| 1965-10-06|          689|\n",
            "|     VIETNAM (SOUTH)| 1965-10-06|           49|\n",
            "|     VIETNAM (SOUTH)| 1965-10-07|           50|\n",
            "|UNITED STATES OF ...| 1965-10-07|          605|\n",
            "|     VIETNAM (SOUTH)| 1965-10-08|           64|\n",
            "|UNITED STATES OF ...| 1965-10-08|          700|\n",
            "|     VIETNAM (SOUTH)| 1965-10-09|           69|\n",
            "|UNITED STATES OF ...| 1965-10-09|          677|\n",
            "|     VIETNAM (SOUTH)| 1965-10-10|           59|\n",
            "|UNITED STATES OF ...| 1965-10-10|          789|\n",
            "|     VIETNAM (SOUTH)| 1965-10-11|           48|\n",
            "|UNITED STATES OF ...| 1965-10-11|          455|\n",
            "|     VIETNAM (SOUTH)| 1965-10-12|           62|\n",
            "|UNITED STATES OF ...| 1965-10-12|          449|\n",
            "+--------------------+-----------+-------------+\n",
            "only showing top 20 rows\n",
            "\n"
          ]
        }
      ]
    },
    {
      "cell_type": "code",
      "source": [
        "missions_count_Q2 = Bombing_Operations.where(\"TargetCountry = 'NORTH VIETNAM' AND ContryFlyingMission = 'UNITED STATES OF AMERICA' AND MissionDate = '1966-06-29'\").groupby(\"TakeoffLocation\").agg(count(\"*\").alias(\"NumOfMissions\"))"
      ],
      "metadata": {
        "id": "EeJuVcjq-9KG"
      },
      "execution_count": null,
      "outputs": []
    },
    {
      "cell_type": "code",
      "source": [
        "missions_count_Q2.show()"
      ],
      "metadata": {
        "colab": {
          "base_uri": "https://localhost:8080/"
        },
        "id": "AD8t7op4--JF",
        "outputId": "d6a93c9d-05bc-4ad5-83a1-cc7112651b2b"
      },
      "execution_count": null,
      "outputs": [
        {
          "output_type": "stream",
          "name": "stdout",
          "text": [
            "+----------------+-------------+\n",
            "| TakeoffLocation|NumOfMissions|\n",
            "+----------------+-------------+\n",
            "|    TAN SON NHUT|           26|\n",
            "|          DANANG|           29|\n",
            "|        UDORN AB|           44|\n",
            "|HANCOCK (CVA-19)|           10|\n",
            "|   CONSTELLATION|           87|\n",
            "|          TAKHLI|           56|\n",
            "|         CUBI PT|            1|\n",
            "|          RANGER|           35|\n",
            "|           KORAT|           55|\n",
            "|         UBON AB|           44|\n",
            "|    CAM RANH BAY|            2|\n",
            "+----------------+-------------+\n",
            "\n"
          ]
        }
      ]
    },
    {
      "cell_type": "code",
      "source": [],
      "metadata": {
        "id": "ROnOhUjFCU0M"
      },
      "execution_count": null,
      "outputs": []
    },
    {
      "cell_type": "code",
      "source": [
        "data_customer=spark.read.csv('CC GENERAL.csv', header = True, inferSchema=True)\n",
        "data_customer.printSchema()"
      ],
      "metadata": {
        "id": "2ucAA-gCCVhj",
        "colab": {
          "base_uri": "https://localhost:8080/"
        },
        "outputId": "cf5e1d45-5da8-4053-a148-f24e6313e669"
      },
      "execution_count": null,
      "outputs": [
        {
          "output_type": "stream",
          "name": "stdout",
          "text": [
            "root\n",
            " |-- CUST_ID: string (nullable = true)\n",
            " |-- BALANCE: double (nullable = true)\n",
            " |-- BALANCE_FREQUENCY: double (nullable = true)\n",
            " |-- PURCHASES: double (nullable = true)\n",
            " |-- ONEOFF_PURCHASES: double (nullable = true)\n",
            " |-- INSTALLMENTS_PURCHASES: double (nullable = true)\n",
            " |-- CASH_ADVANCE: double (nullable = true)\n",
            " |-- PURCHASES_FREQUENCY: double (nullable = true)\n",
            " |-- ONEOFF_PURCHASES_FREQUENCY: double (nullable = true)\n",
            " |-- PURCHASES_INSTALLMENTS_FREQUENCY: double (nullable = true)\n",
            " |-- CASH_ADVANCE_FREQUENCY: double (nullable = true)\n",
            " |-- CASH_ADVANCE_TRX: integer (nullable = true)\n",
            " |-- PURCHASES_TRX: integer (nullable = true)\n",
            " |-- CREDIT_LIMIT: double (nullable = true)\n",
            " |-- PAYMENTS: double (nullable = true)\n",
            " |-- MINIMUM_PAYMENTS: double (nullable = true)\n",
            " |-- PRC_FULL_PAYMENT: double (nullable = true)\n",
            " |-- TENURE: integer (nullable = true)\n",
            "\n"
          ]
        }
      ]
    },
    {
      "cell_type": "code",
      "source": [],
      "metadata": {
        "id": "3hu7aL2DxD0K"
      },
      "execution_count": null,
      "outputs": []
    },
    {
      "cell_type": "code",
      "source": [
        "data_customer=data_customer.na.drop()"
      ],
      "metadata": {
        "id": "N4A9kF1ncDQs"
      },
      "execution_count": null,
      "outputs": []
    },
    {
      "cell_type": "code",
      "source": [
        "from pyspark.ml.feature import VectorAssembler\n",
        "print(data_customer.columns)\n"
      ],
      "metadata": {
        "colab": {
          "base_uri": "https://localhost:8080/"
        },
        "id": "VP1zFdd-xFLq",
        "outputId": "d14e7d76-2cc8-4c9b-c7f7-a49ba15c2bf4"
      },
      "execution_count": null,
      "outputs": [
        {
          "output_type": "stream",
          "name": "stdout",
          "text": [
            "['CUST_ID', 'BALANCE', 'BALANCE_FREQUENCY', 'PURCHASES', 'ONEOFF_PURCHASES', 'INSTALLMENTS_PURCHASES', 'CASH_ADVANCE', 'PURCHASES_FREQUENCY', 'ONEOFF_PURCHASES_FREQUENCY', 'PURCHASES_INSTALLMENTS_FREQUENCY', 'CASH_ADVANCE_FREQUENCY', 'CASH_ADVANCE_TRX', 'PURCHASES_TRX', 'CREDIT_LIMIT', 'PAYMENTS', 'MINIMUM_PAYMENTS', 'PRC_FULL_PAYMENT', 'TENURE']\n"
          ]
        }
      ]
    },
    {
      "cell_type": "code",
      "source": [
        "assemble = VectorAssembler (inputCols = ['BALANCE', 'BALANCE_FREQUENCY', 'PURCHASES', 'ONEOFF_PURCHASES', 'INSTALLMENTS_PURCHASES', 'CASH_ADVANCE', 'PURCHASES_FREQUENCY', 'ONEOFF_PURCHASES_FREQUENCY', 'PURCHASES_INSTALLMENTS_FREQUENCY', 'CASH_ADVANCE_FREQUENCY', 'CASH_ADVANCE_TRX', 'PURCHASES_TRX', 'CREDIT_LIMIT', 'PAYMENTS', 'MINIMUM_PAYMENTS', 'PRC_FULL_PAYMENT', 'TENURE'], outputCol='features')\n",
        "assembled_data = assemble.transform(data_customer)\n",
        "assembled_data.show(5)\n"
      ],
      "metadata": {
        "colab": {
          "base_uri": "https://localhost:8080/"
        },
        "id": "og9o-dKRxv66",
        "outputId": "59a03c5d-cba1-4806-c69d-d9b1dd54df27"
      },
      "execution_count": null,
      "outputs": [
        {
          "output_type": "stream",
          "name": "stdout",
          "text": [
            "+-------+-----------+-----------------+---------+----------------+----------------------+------------+-------------------+--------------------------+--------------------------------+----------------------+----------------+-------------+------------+-----------+----------------+----------------+------+--------------------+\n",
            "|CUST_ID|    BALANCE|BALANCE_FREQUENCY|PURCHASES|ONEOFF_PURCHASES|INSTALLMENTS_PURCHASES|CASH_ADVANCE|PURCHASES_FREQUENCY|ONEOFF_PURCHASES_FREQUENCY|PURCHASES_INSTALLMENTS_FREQUENCY|CASH_ADVANCE_FREQUENCY|CASH_ADVANCE_TRX|PURCHASES_TRX|CREDIT_LIMIT|   PAYMENTS|MINIMUM_PAYMENTS|PRC_FULL_PAYMENT|TENURE|            features|\n",
            "+-------+-----------+-----------------+---------+----------------+----------------------+------------+-------------------+--------------------------+--------------------------------+----------------------+----------------+-------------+------------+-----------+----------------+----------------+------+--------------------+\n",
            "| C10001|  40.900749|         0.818182|     95.4|             0.0|                  95.4|         0.0|           0.166667|                       0.0|                        0.083333|                   0.0|               0|            2|      1000.0| 201.802084|      139.509787|             0.0|    12|[40.900749,0.8181...|\n",
            "| C10002|3202.467416|         0.909091|      0.0|             0.0|                   0.0| 6442.945483|                0.0|                       0.0|                             0.0|                  0.25|               4|            0|      7000.0|4103.032597|     1072.340217|        0.222222|    12|(17,[0,1,5,9,10,1...|\n",
            "| C10003|2495.148862|              1.0|   773.17|          773.17|                   0.0|         0.0|                1.0|                       1.0|                             0.0|                   0.0|               0|           12|      7500.0| 622.066742|      627.284787|             0.0|    12|[2495.148862,1.0,...|\n",
            "| C10005| 817.714335|              1.0|     16.0|            16.0|                   0.0|         0.0|           0.083333|                  0.083333|                             0.0|                   0.0|               0|            1|      1200.0| 678.334763|      244.791237|             0.0|    12|[817.714335,1.0,1...|\n",
            "| C10006|1809.828751|              1.0|  1333.28|             0.0|               1333.28|         0.0|           0.666667|                       0.0|                        0.583333|                   0.0|               0|            8|      1800.0| 1400.05777|     2407.246035|             0.0|    12|[1809.828751,1.0,...|\n",
            "+-------+-----------+-----------------+---------+----------------+----------------------+------------+-------------------+--------------------------+--------------------------------+----------------------+----------------+-------------+------------+-----------+----------------+----------------+------+--------------------+\n",
            "only showing top 5 rows\n",
            "\n"
          ]
        }
      ]
    },
    {
      "cell_type": "code",
      "source": [
        "from pyspark.ml.feature import StandardScaler\n",
        "scale=StandardScaler(inputCol='features',outputCol='standardized')\n",
        "data_scale= scale.fit(assembled_data)\n",
        "data_scale_output= data_scale.transform(assembled_data)\n",
        "data_scale_output.show(2)"
      ],
      "metadata": {
        "colab": {
          "base_uri": "https://localhost:8080/"
        },
        "id": "KViCbUESzZ7c",
        "outputId": "c2724a7d-3fa0-4fa9-c3bc-530484d10533"
      },
      "execution_count": null,
      "outputs": [
        {
          "output_type": "stream",
          "name": "stdout",
          "text": [
            "+-------+-----------+-----------------+---------+----------------+----------------------+------------+-------------------+--------------------------+--------------------------------+----------------------+----------------+-------------+------------+-----------+----------------+----------------+------+--------------------+--------------------+\n",
            "|CUST_ID|    BALANCE|BALANCE_FREQUENCY|PURCHASES|ONEOFF_PURCHASES|INSTALLMENTS_PURCHASES|CASH_ADVANCE|PURCHASES_FREQUENCY|ONEOFF_PURCHASES_FREQUENCY|PURCHASES_INSTALLMENTS_FREQUENCY|CASH_ADVANCE_FREQUENCY|CASH_ADVANCE_TRX|PURCHASES_TRX|CREDIT_LIMIT|   PAYMENTS|MINIMUM_PAYMENTS|PRC_FULL_PAYMENT|TENURE|            features|        standardized|\n",
            "+-------+-----------+-----------------+---------+----------------+----------------------+------------+-------------------+--------------------------+--------------------------------+----------------------+----------------+-------------+------------+-----------+----------------+----------------+------+--------------------+--------------------+\n",
            "| C10001|  40.900749|         0.818182|     95.4|             0.0|                  95.4|         0.0|           0.166667|                       0.0|                        0.083333|                   0.0|               0|            2|      1000.0| 201.802084|      139.509787|             0.0|    12|[40.900749,0.8181...|[0.01951770812869...|\n",
            "| C10002|3202.467416|         0.909091|      0.0|             0.0|                   0.0| 6442.945483|                0.0|                       0.0|                             0.0|                  0.25|               4|            0|      7000.0|4103.032597|     1072.340217|        0.222222|    12|(17,[0,1,5,9,10,1...|(17,[0,1,5,9,10,1...|\n",
            "+-------+-----------+-----------------+---------+----------------+----------------------+------------+-------------------+--------------------------+--------------------------------+----------------------+----------------+-------------+------------+-----------+----------------+----------------+------+--------------------+--------------------+\n",
            "only showing top 2 rows\n",
            "\n"
          ]
        }
      ]
    },
    {
      "cell_type": "code",
      "source": [
        "from pyspark.ml.clustering import KMeans\n",
        "from pyspark.ml.evaluation import ClusteringEvaluator\n",
        "silhouette_score = []\n",
        "evaluator=ClusteringEvaluator(predictionCol='prediction', featuresCol='standardized', metricName='silhouette',distanceMeasure='squaredEuclidean')\n",
        "\n",
        "for i in range(2,11):\n",
        "  KMeans_algo=KMeans(featuresCol='standardized',k=i)\n",
        "\n",
        "  KMeans_fit=KMeans_algo.fit(data_scale_output)\n",
        "\n",
        "  output=KMeans_fit.transform(data_scale_output)\n",
        "\n",
        "  score = evaluator.evaluate(output)\n",
        "\n",
        "  silhouette_score.append(score)\n",
        "  print(\"Silhouette Score for k = \",i,\"-->\",score)\n",
        "\n",
        "\n",
        "print(silhouette_score)\n",
        "\n"
      ],
      "metadata": {
        "colab": {
          "base_uri": "https://localhost:8080/"
        },
        "id": "sFaJCJNE1j5j",
        "outputId": "26c0a775-4d18-467b-f7f9-5404597e602b"
      },
      "execution_count": null,
      "outputs": [
        {
          "output_type": "stream",
          "name": "stdout",
          "text": [
            "Silhouette Score for k =  2 --> 0.45629801695828\n",
            "Silhouette Score for k =  3 --> 0.39010795446267116\n",
            "Silhouette Score for k =  4 --> 0.29148205139040295\n",
            "Silhouette Score for k =  5 --> 0.2951833870512153\n",
            "Silhouette Score for k =  6 --> 0.29318148627814133\n",
            "Silhouette Score for k =  7 --> 0.26795030644367235\n",
            "Silhouette Score for k =  8 --> 0.3068499892359789\n",
            "Silhouette Score for k =  9 --> 0.2499683442653988\n",
            "Silhouette Score for k =  10 --> 0.3104903730702133\n",
            "[0.45629801695828, 0.39010795446267116, 0.29148205139040295, 0.2951833870512153, 0.29318148627814133, 0.26795030644367235, 0.3068499892359789, 0.2499683442653988, 0.3104903730702133]\n"
          ]
        }
      ]
    },
    {
      "cell_type": "code",
      "source": [
        "import matplotlib.pyplot as plt\n",
        "xpoints = np.array([2,3,4,5,6,7,8,9,10])\n",
        "ypoints = silhouette_score\n",
        "plt.plot(xpoints, ypoints)\n",
        "plt.show()"
      ],
      "metadata": {
        "colab": {
          "base_uri": "https://localhost:8080/",
          "height": 265
        },
        "id": "t_9WvGea3sqT",
        "outputId": "60d71db9-1134-46c4-85cb-effb9b4dd9ca"
      },
      "execution_count": null,
      "outputs": [
        {
          "output_type": "display_data",
          "data": {
            "text/plain": [
              "<Figure size 432x288 with 1 Axes>"
            ],
            "image/png": "[encoded data removed]"
          },
          "metadata": {
            "needs_background": "light"
          }
        }
      ]
    },
    {
      "cell_type": "code",
      "source": [],
      "metadata": {
        "id": "9p3g-phb-L0l"
      },
      "execution_count": null,
      "outputs": []
    }
  ]
}